{
 "cells": [
  {
   "cell_type": "markdown",
   "metadata": {},
   "source": [
    "In this notebook I fit the microburst low Earth orbit Probability Density Function (PDF) with a variety of models. The optimizer is pymc3."
   ]
  },
  {
   "cell_type": "code",
   "execution_count": 27,
   "metadata": {},
   "outputs": [],
   "source": [
    "import numpy as np\n",
    "import matplotlib.pyplot as plt\n",
    "\n",
    "import pandas as pd\n",
    "import pymc3 as pm\n",
    "import theano.tensor as tt"
   ]
  },
  {
   "cell_type": "markdown",
   "metadata": {},
   "source": [
    "### Define a model\n",
    "First lets code up a Maxwell (Maxwell-Boltzmann) distribution."
   ]
  },
  {
   "cell_type": "code",
   "execution_count": 25,
   "metadata": {},
   "outputs": [],
   "source": [
    "def maxwell(x, a):\n",
    "    \"\"\" \n",
    "    Defines a Maxwell (otherwise known as \n",
    "    Maxwell-Boltzman or Maxwellian for plasmas) \n",
    "    PDF. Independent model parameter is a. \n",
    "    The distribution is evaluated at points\n",
    "    given by array x. Interesting that I did \n",
    "    not have to define theano tensor variables\n",
    "    beforehand i.e. a = tt.scalar('a') and\n",
    "    x = tt.vector('x') is not necessary.\n",
    "    \"\"\"\n",
    "    inner = -x**2/(2*a**2)\n",
    "    pdf = np.sqrt(2/np.pi)*(x**2/a**3)*tt.exp(inner)\n",
    "    return pdf"
   ]
  },
  {
   "cell_type": "markdown",
   "metadata": {},
   "source": [
    "Now confirm that our theno representation of a Maxwell distribution is the same as other sources e.g. wikipedia."
   ]
  },
  {
   "cell_type": "code",
   "execution_count": 26,
   "metadata": {},
   "outputs": [
    {
     "data": {
      "image/png": "[encoded data removed]",
      "text/plain": [
       "<Figure size 432x288 with 1 Axes>"
      ]
     },
     "metadata": {
      "needs_background": "light"
     },
     "output_type": "display_data"
    }
   ],
   "source": [
    "for a_i in [1, 2, 5, 15]:\n",
    "    x = np.linspace(0, 20, num=100)\n",
    "    y = maxwell(x, a_i)\n",
    "    plt.plot(x, y.eval(), label=f'a={a_i}')\n",
    "plt.legend()\n",
    "plt.ylabel('PDF'); plt.xlabel('x');"
   ]
  },
  {
   "cell_type": "markdown",
   "metadata": {},
   "source": [
    "## MCMC model\n",
    "First lets fit artificial data to confirm that everything works as expected"
   ]
  },
  {
   "cell_type": "code",
   "execution_count": 50,
   "metadata": {},
   "outputs": [],
   "source": [
    "norm_std = 0.01\n",
    "\n",
    "def model(x, y):\n",
    "    \"\"\" \n",
    "    Define a pymc3 model\n",
    "    \"\"\"\n",
    "    with pm.Model() as model:\n",
    "        # Very simple model!\n",
    "        a = pm.Uniform('a', lower=0, upper=20)\n",
    "        y_test = maxwell(x, a)\n",
    "        # Likelihood\n",
    "        c_m = pm.Normal('c_m', mu=y_test, sd=norm_std, observed=y)\n",
    "        trace = pm.sample(int(1E4)) # chains=1000, step=pm.SMC()\n",
    "    return trace, c_m"
   ]
  },
  {
   "cell_type": "markdown",
   "metadata": {},
   "source": [
    "Now run the MCMC model to fit the test PDF."
   ]
  },
  {
   "cell_type": "code",
   "execution_count": 56,
   "metadata": {},
   "outputs": [],
   "source": [
    "a_test = 5\n",
    "x = np.arange(0, 100, 5)\n",
    "y = maxwell(x, a_test).eval()\n",
    "y_data = np.array([np.random.normal(loc=y_i, scale=norm_std) for y_i in y])\n",
    "y_data[y_data < 0] = 0"
   ]
  },
  {
   "cell_type": "code",
   "execution_count": 52,
   "metadata": {},
   "outputs": [
    {
     "name": "stderr",
     "output_type": "stream",
     "text": [
      "Auto-assigning NUTS sampler...\n",
      "Initializing NUTS using jitter+adapt_diag...\n",
      "Multiprocess sampling (4 chains in 4 jobs)\n",
      "NUTS: [a]\n",
      "Sampling 4 chains: 100%|██████████| 42000/42000 [00:07<00:00, 5533.32draws/s]\n"
     ]
    }
   ],
   "source": [
    "trace, c_m = model(x, y_data)"
   ]
  },
  {
   "cell_type": "markdown",
   "metadata": {},
   "source": [
    "Now validate this model to check if it did the right thing!"
   ]
  },
  {
   "cell_type": "code",
   "execution_count": 88,
   "metadata": {},
   "outputs": [
    {
     "name": "stdout",
     "output_type": "stream",
     "text": [
      "True a = 5\n"
     ]
    }
   ],
   "source": [
    "print(f'True a = {a_test}')"
   ]
  },
  {
   "cell_type": "code",
   "execution_count": 85,
   "metadata": {},
   "outputs": [
    {
     "data": {
      "text/html": [
       "<div>\n",
       "<style scoped>\n",
       "    .dataframe tbody tr th:only-of-type {\n",
       "        vertical-align: middle;\n",
       "    }\n",
       "\n",
       "    .dataframe tbody tr th {\n",
       "        vertical-align: top;\n",
       "    }\n",
       "\n",
       "    .dataframe thead th {\n",
       "        text-align: right;\n",
       "    }\n",
       "</style>\n",
       "<table border=\"1\" class=\"dataframe\">\n",
       "  <thead>\n",
       "    <tr style=\"text-align: right;\">\n",
       "      <th></th>\n",
       "      <th>mean</th>\n",
       "      <th>sd</th>\n",
       "      <th>mc_error</th>\n",
       "      <th>hpd_2.5</th>\n",
       "      <th>hpd_97.5</th>\n",
       "      <th>n_eff</th>\n",
       "      <th>Rhat</th>\n",
       "    </tr>\n",
       "  </thead>\n",
       "  <tbody>\n",
       "    <tr>\n",
       "      <th>a</th>\n",
       "      <td>4.92742</td>\n",
       "      <td>0.215955</td>\n",
       "      <td>0.001721</td>\n",
       "      <td>4.520443</td>\n",
       "      <td>5.369804</td>\n",
       "      <td>16219.464436</td>\n",
       "      <td>1.000152</td>\n",
       "    </tr>\n",
       "  </tbody>\n",
       "</table>\n",
       "</div>"
      ],
      "text/plain": [
       "      mean        sd  mc_error   hpd_2.5  hpd_97.5         n_eff      Rhat\n",
       "a  4.92742  0.215955  0.001721  4.520443  5.369804  16219.464436  1.000152"
      ]
     },
     "execution_count": 85,
     "metadata": {},
     "output_type": "execute_result"
    },
    {
     "data": {
      "image/png": "[encoded data removed]",
      "text/plain": [
       "<Figure size 864x144 with 2 Axes>"
      ]
     },
     "metadata": {
      "needs_background": "light"
     },
     "output_type": "display_data"
    }
   ],
   "source": [
    "pm.traceplot(trace, combined=True);\n",
    "pm.summary(trace)"
   ]
  },
  {
   "cell_type": "code",
   "execution_count": 59,
   "metadata": {},
   "outputs": [
    {
     "data": {
      "text/html": [
       "<div>\n",
       "<style scoped>\n",
       "    .dataframe tbody tr th:only-of-type {\n",
       "        vertical-align: middle;\n",
       "    }\n",
       "\n",
       "    .dataframe tbody tr th {\n",
       "        vertical-align: top;\n",
       "    }\n",
       "\n",
       "    .dataframe thead th {\n",
       "        text-align: right;\n",
       "    }\n",
       "</style>\n",
       "<table border=\"1\" class=\"dataframe\">\n",
       "  <thead>\n",
       "    <tr style=\"text-align: right;\">\n",
       "      <th></th>\n",
       "      <th>mean</th>\n",
       "      <th>sd</th>\n",
       "      <th>mc_error</th>\n",
       "      <th>hpd_2.5</th>\n",
       "      <th>hpd_97.5</th>\n",
       "      <th>n_eff</th>\n",
       "      <th>Rhat</th>\n",
       "    </tr>\n",
       "  </thead>\n",
       "  <tbody>\n",
       "    <tr>\n",
       "      <th>a</th>\n",
       "      <td>4.92742</td>\n",
       "      <td>0.215955</td>\n",
       "      <td>0.001721</td>\n",
       "      <td>4.520443</td>\n",
       "      <td>5.369804</td>\n",
       "      <td>16219.464436</td>\n",
       "      <td>1.000152</td>\n",
       "    </tr>\n",
       "  </tbody>\n",
       "</table>\n",
       "</div>"
      ],
      "text/plain": [
       "      mean        sd  mc_error   hpd_2.5  hpd_97.5         n_eff      Rhat\n",
       "a  4.92742  0.215955  0.001721  4.520443  5.369804  16219.464436  1.000152"
      ]
     },
     "execution_count": 59,
     "metadata": {},
     "output_type": "execute_result"
    }
   ],
   "source": []
  },
  {
   "cell_type": "code",
   "execution_count": 63,
   "metadata": {},
   "outputs": [
    {
     "data": {
      "text/plain": [
       "array([0.00033056, 0.09612961, 0.07774128, 0.010673  , 0.0036074 ,\n",
       "       0.00678232, 0.        , 0.01047884, 0.        , 0.        ,\n",
       "       0.00086752, 0.        , 0.        , 0.        , 0.        ,\n",
       "       0.00253996, 0.01270517, 0.        , 0.        , 0.        ])"
      ]
     },
     "execution_count": 63,
     "metadata": {},
     "output_type": "execute_result"
    }
   ],
   "source": [
    "c_m.eval()"
   ]
  },
  {
   "cell_type": "code",
   "execution_count": 78,
   "metadata": {},
   "outputs": [
    {
     "data": {
      "image/png": "[encoded data removed]",
      "text/plain": [
       "<Figure size 432x288 with 1 Axes>"
      ]
     },
     "metadata": {
      "needs_background": "light"
     },
     "output_type": "display_data"
    }
   ],
   "source": [
    "plt.plot(x, y, c='b', label='true fake data')\n",
    "plt.scatter(x, y_data, c='r', label='noisy fake data');\n",
    "plt.scatter(x, c_m.eval(), c='g', s=20, label='MCMC counts');\n",
    "plt.legend(); plt.xlabel('x'); plt.ylabel('PDF');"
   ]
  },
  {
   "cell_type": "code",
   "execution_count": null,
   "metadata": {},
   "outputs": [],
   "source": [
    "with pm.Model() as model:\n",
    "    # Very simple model!\n",
    "    a = pm.Uniform('a', lower=0, upper=100)\n",
    "    # Evaluate the model and convert to counts.\n",
    "    mu = maxwell(a, t)\n",
    "    #print(mu.eval())\n",
    "    # Likelihood\n",
    "    c_m = pm.Poisson('c_m', mu=mu, observed=data)\n",
    "    trace = pm.sample(int(1E4), chains=1000) # step=pm.SMC()"
   ]
  },
  {
   "cell_type": "code",
   "execution_count": null,
   "metadata": {},
   "outputs": [],
   "source": [
    "First, lets load a cdf/pdf dataset that I've generated in the ./../stats/microburst_CDF.ipynb"
   ]
  }
 ],
 "metadata": {
  "kernelspec": {
   "display_name": "Python 3",
   "language": "python",
   "name": "python3"
  },
  "language_info": {
   "codemirror_mode": {
    "name": "ipython",
    "version": 3
   },
   "file_extension": ".py",
   "mimetype": "text/x-python",
   "name": "python",
   "nbconvert_exporter": "python",
   "pygments_lexer": "ipython3",
   "version": "3.6.7"
  }
 },
 "nbformat": 4,
 "nbformat_minor": 2
}
