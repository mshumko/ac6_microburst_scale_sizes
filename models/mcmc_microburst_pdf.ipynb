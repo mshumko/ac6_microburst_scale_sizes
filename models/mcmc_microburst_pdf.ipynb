{
 "cells": [
  {
   "cell_type": "markdown",
   "metadata": {},
   "source": [
    "In this notebook I fit the microburst low Earth orbit Probability Density Function (PDF) with a variety of models. The optimizer is pymc3."
   ]
  },
  {
   "cell_type": "code",
   "execution_count": 3,
   "metadata": {},
   "outputs": [],
   "source": [
    "import numpy as np\n",
    "import matplotlib.pyplot as plt\n",
    "import pymc3 as pm\n",
    "import theano.tensor as tt"
   ]
  },
  {
   "cell_type": "markdown",
   "metadata": {},
   "source": [
    "### Define a model\n",
    "First lets code up a Maxwell (Maxwell-Boltzmann) distribution."
   ]
  },
  {
   "cell_type": "code",
   "execution_count": null,
   "metadata": {},
   "outputs": [],
   "source": [
    "def maxwell(x, a):\n",
    "    \"\"\" \n",
    "    Model parameter a. The distribution is \n",
    "    evaluated at points given by array x.\n",
    "    \"\"\"\n",
    "    # pdf = sqrt(2/pi)*(x**2 * e^(-x**2/(2a**2)))/a**3\n",
    "    pdf = \n",
    "    return"
   ]
  },
  {
   "cell_type": "markdown",
   "metadata": {},
   "source": [
    "Now run the MCMC model to fit the PDF."
   ]
  },
  {
   "cell_type": "code",
   "execution_count": null,
   "metadata": {},
   "outputs": [],
   "source": [
    "with pm.Model() as model:\n",
    "    # Very simple model!\n",
    "    a = pm.Uniform('a', lower=0, upper=100)\n",
    "    # Evaluate the model and convert to counts.\n",
    "    mu = maxwell(a, t)\n",
    "    #print(mu.eval())\n",
    "    # Likelihood\n",
    "    c_m = pm.Poisson('c_m', mu=mu, observed=data)\n",
    "    trace = pm.sample(int(1E4), chains=1000) # step=pm.SMC()"
   ]
  }
 ],
 "metadata": {
  "kernelspec": {
   "display_name": "Python 3",
   "language": "python",
   "name": "python3"
  },
  "language_info": {
   "codemirror_mode": {
    "name": "ipython",
    "version": 3
   },
   "file_extension": ".py",
   "mimetype": "text/x-python",
   "name": "python",
   "nbconvert_exporter": "python",
   "pygments_lexer": "ipython3",
   "version": "3.6.7"
  }
 },
 "nbformat": 4,
 "nbformat_minor": 2
}
