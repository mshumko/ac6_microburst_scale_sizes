{
 "cells": [
  {
   "cell_type": "markdown",
   "metadata": {},
   "source": [
    "Here we derive an analytic and Monte Carlo (MC) models of the fraction of the coincident microbursts observed by both spacecraft vs. one assuming a fixed scale size."
   ]
  },
  {
   "cell_type": "code",
   "execution_count": 1,
   "metadata": {},
   "outputs": [],
   "source": [
    "import numpy as np\n",
    "import matplotlib.pyplot as plt\n",
    "import scipy.optimize\n",
    "import scipy.stats\n",
    "import time\n",
    "from IPython.display import Image\n",
    "import pandas as pd\n",
    "\n",
    "np.random.seed(123)\n",
    "# plt.style.use('Solarize_Light2')"
   ]
  },
  {
   "cell_type": "markdown",
   "metadata": {},
   "source": [
    "# Load and plot the CDF data"
   ]
  },
  {
   "cell_type": "code",
   "execution_count": 6,
   "metadata": {},
   "outputs": [],
   "source": [
    "cdf_path = './../data/microburst_cdf_pdf_norm_v3.csv'\n",
    "cdf_data = pd.read_csv(cdf_path)"
   ]
  },
  {
   "cell_type": "code",
   "execution_count": 7,
   "metadata": {},
   "outputs": [
    {
     "data": {
      "text/html": [
       "<div>\n",
       "<style scoped>\n",
       "    .dataframe tbody tr th:only-of-type {\n",
       "        vertical-align: middle;\n",
       "    }\n",
       "\n",
       "    .dataframe tbody tr th {\n",
       "        vertical-align: top;\n",
       "    }\n",
       "\n",
       "    .dataframe thead th {\n",
       "        text-align: right;\n",
       "    }\n",
       "</style>\n",
       "<table border=\"1\" class=\"dataframe\">\n",
       "  <thead>\n",
       "    <tr style=\"text-align: right;\">\n",
       "      <th></th>\n",
       "      <th>Separation [km]</th>\n",
       "      <th>CDF</th>\n",
       "      <th>PDF</th>\n",
       "      <th>CDF_std</th>\n",
       "      <th>PDF_std</th>\n",
       "    </tr>\n",
       "  </thead>\n",
       "  <tbody>\n",
       "    <tr>\n",
       "      <th>0</th>\n",
       "      <td>0</td>\n",
       "      <td>1.000000</td>\n",
       "      <td>0.054516</td>\n",
       "      <td>0.064798</td>\n",
       "      <td>0.015809</td>\n",
       "    </tr>\n",
       "    <tr>\n",
       "      <th>1</th>\n",
       "      <td>5</td>\n",
       "      <td>0.727418</td>\n",
       "      <td>0.035251</td>\n",
       "      <td>0.045269</td>\n",
       "      <td>0.011236</td>\n",
       "    </tr>\n",
       "    <tr>\n",
       "      <th>2</th>\n",
       "      <td>10</td>\n",
       "      <td>0.551161</td>\n",
       "      <td>0.028598</td>\n",
       "      <td>0.033266</td>\n",
       "      <td>0.008033</td>\n",
       "    </tr>\n",
       "    <tr>\n",
       "      <th>3</th>\n",
       "      <td>15</td>\n",
       "      <td>0.408169</td>\n",
       "      <td>0.011309</td>\n",
       "      <td>0.022510</td>\n",
       "      <td>0.005884</td>\n",
       "    </tr>\n",
       "    <tr>\n",
       "      <th>4</th>\n",
       "      <td>20</td>\n",
       "      <td>0.351622</td>\n",
       "      <td>0.011795</td>\n",
       "      <td>0.018943</td>\n",
       "      <td>0.004858</td>\n",
       "    </tr>\n",
       "  </tbody>\n",
       "</table>\n",
       "</div>"
      ],
      "text/plain": [
       "   Separation [km]       CDF       PDF   CDF_std   PDF_std\n",
       "0                0  1.000000  0.054516  0.064798  0.015809\n",
       "1                5  0.727418  0.035251  0.045269  0.011236\n",
       "2               10  0.551161  0.028598  0.033266  0.008033\n",
       "3               15  0.408169  0.011309  0.022510  0.005884\n",
       "4               20  0.351622  0.011795  0.018943  0.004858"
      ]
     },
     "execution_count": 7,
     "metadata": {},
     "output_type": "execute_result"
    }
   ],
   "source": [
    "cdf_data.head()"
   ]
  },
  {
   "cell_type": "code",
   "execution_count": 8,
   "metadata": {},
   "outputs": [
    {
     "data": {
      "image/png": "[encoded data removed]",
      "text/plain": [
       "<Figure size 432x288 with 1 Axes>"
      ]
     },
     "metadata": {
      "needs_background": "light"
     },
     "output_type": "display_data"
    }
   ],
   "source": [
    "cdf_data.plot(x='Separation [km]', y='CDF');"
   ]
  },
  {
   "cell_type": "markdown",
   "metadata": {},
   "source": [
    "# Develop a Monte Carlo model \n",
    "For development purposes we first assume a particular scale size distributon as a Gaussian with a mean value of s0 and width sigma_s"
   ]
  },
  {
   "cell_type": "code",
   "execution_count": 10,
   "metadata": {},
   "outputs": [],
   "source": [
    "s0 = 10     \n",
    "sigma_s = 20"
   ]
  },
  {
   "cell_type": "markdown",
   "metadata": {},
   "source": [
    "Generate n_bursts number of microbursts with the s0 and sigma_s parameters above and randomy scatter them on a grid of hight/width grid_size."
   ]
  },
  {
   "cell_type": "code",
   "execution_count": 11,
   "metadata": {},
   "outputs": [],
   "source": [
    "s0 = 10\n",
    "grid_size = 200\n",
    "n_bursts = int(1E5)\n",
    "burst_size = np.abs(np.random.normal(loc=s0, scale=sigma_s, size=n_bursts))\n",
    "burst_x = np.random.uniform(-grid_size, grid_size, size=n_bursts)\n",
    "burst_y = np.random.uniform(-grid_size, grid_size, size=n_bursts)"
   ]
  },
  {
   "cell_type": "markdown",
   "metadata": {},
   "source": [
    "Visualize what the microbursts will look like on the grid."
   ]
  },
  {
   "cell_type": "code",
   "execution_count": 12,
   "metadata": {},
   "outputs": [
    {
     "data": {
      "image/png": "[encoded data removed]",
      "text/plain": [
       "<Figure size 432x432 with 1 Axes>"
      ]
     },
     "metadata": {
      "needs_background": "light"
     },
     "output_type": "display_data"
    }
   ],
   "source": [
    "plot_n = 100\n",
    "circles = plot_n*[None]\n",
    "fig, ax = plt.subplots(figsize=(6, 6))\n",
    "\n",
    "for c in range(plot_n):\n",
    "    circles[c] = plt.Circle((burst_x[c], burst_y[c]), burst_size[c], color='r', alpha=0.2)\n",
    "    ax.add_artist(circles[c])\n",
    "plt.xlim(-grid_size, grid_size); plt.ylim(-grid_size, grid_size)\n",
    "plt.scatter(0,0 , c='k')\n",
    "ax.set_aspect(1.0)"
   ]
  },
  {
   "cell_type": "markdown",
   "metadata": {},
   "source": [
    "Define a few helper functions to make the model look and run more smoothly"
   ]
  },
  {
   "cell_type": "code",
   "execution_count": 15,
   "metadata": {},
   "outputs": [],
   "source": [
    "bins = cdf_data['Dist_Total']\n",
    "\n",
    "def dist(x1, y1, x2, y2):\n",
    "    return np.sqrt((x2-x1)**2 + (y2-y1)**2)"
   ]
  },
  {
   "cell_type": "code",
   "execution_count": 16,
   "metadata": {},
   "outputs": [],
   "source": [
    "def circle_intersect(line_p, circle_p):\n",
    "    \"\"\" \n",
    "    Returns true if a cicle defined by circle_p argument \n",
    "    defined as [center_x, center_y, radius] intersects a\n",
    "    line defined as [x1, y1, x2, y2]. The line is assume \n",
    "    to be finite in length. \n",
    "    \n",
    "    Reference: http://mathworld.wolfram.com/Circle-LineIntersection.html\n",
    "    \"\"\"\n",
    "    line_p[0] -= circle_p[0]; line_p[2] -= circle_p[0]\n",
    "    line_p[1] -= circle_p[1]; line_p[3] -= circle_p[1]\n",
    "    dx = line_p[2] - line_p[0]\n",
    "    dy = line_p[3] - line_p[1]\n",
    "    dr = np.sqrt(dx**2 + dy**2)\n",
    "    D = line_p[0]*line_p[3] - line_p[2]*line_p[1]\n",
    "    if circle_p[2]**(2)*dr**2 - D**2 >= 0:\n",
    "        return True\n",
    "    else:\n",
    "        return False"
   ]
  },
  {
   "cell_type": "markdown",
   "metadata": {},
   "source": [
    "Define the funcitons to tally the microburst events created above"
   ]
  },
  {
   "cell_type": "code",
   "execution_count": 17,
   "metadata": {},
   "outputs": [],
   "source": [
    "def mc_model(dist_kwargs, dist=scipy.stats.poisson, bins=np.arange(100)):\n",
    "    \"\"\" \n",
    "    Wrap the model to be optimized\n",
    "    \"\"\"\n",
    "    n_bursts = int(1E5)\n",
    "    burst_size = dist(*dist_kwargs, size=n_bursts)\n",
    "    n_valid_bursts = len(np.where(burst_size > 0)[0])\n",
    "    burst_size = burst_size[np.where(burst_size > 0)[0]]\n",
    "    burst_x = np.random.uniform(-grid_size, grid_size, size=n_valid_bursts)\n",
    "    burst_y = np.random.uniform(-grid_size, grid_size, size=n_valid_bursts)\n",
    "    # Get the CDF\n",
    "    cdf = cdf_tally_events(burst_x, burst_y, burst_size, bins)\n",
    "    # Apply a log penatly (cost) function.\n",
    "    #cost = -np.log(sum(np.power(cdf-cdf_data[:, 1], 2))/len(cdf))\n",
    "    #cost = np.log(np.abs(sum(np.power(cdf-cdf_data[:, 1], 2))/len(cdf)))\n",
    "#     if np.isnan(cost): \n",
    "#         cost = np.inf\n",
    "    #cost -= x[2]\n",
    "    #print('In model. x =', x, 'cost =', cost)\n",
    "    return cdf#, cost\n",
    "    \n",
    "def cdf_tally_events(burst_x, burst_y, burst_size, bins):\n",
    "    \"\"\" \n",
    "    This function tallies events that were see by both spacercaft over \n",
    "    the events seen by one, or both spacercaft as a function of spacecraft separation.\n",
    "    \"\"\"\n",
    "    cdf = np.zeros(len(bins))    \n",
    "    \n",
    "    # Loop over the spacecraft separations.\n",
    "    for i, d in enumerate(bins):\n",
    "        n_single = 0\n",
    "        n_both = 0\n",
    "        # Loop over the microbursts.\n",
    "        for bx, by, br in zip(burst_x, burst_y, burst_size):\n",
    "            # Skip if the circle did not intersect the y-axis \n",
    "            # (not going to be seen by either spacecraft).\n",
    "            if not circle_intersect([0, 0, 0, 10], [bx, by, br]):\n",
    "                continue\n",
    "            # Both see it\n",
    "            if dist(bx, by, 0, d) <= br and dist(bx, by, 0, 0) <= br: \n",
    "                n_single += 1\n",
    "                n_both += 1\n",
    "            # Only the sc at distance d sees it.\n",
    "            elif dist(bx, by, 0, d) <= br and dist(bx, by, 0, 0) > br:\n",
    "                n_single +=1\n",
    "            # Only the sc at the origin sees it.\n",
    "            elif dist(bx, by, 0, d) > br and dist(bx, by, 0, 0) <= br:\n",
    "                n_single +=1\n",
    "        cdf[i] = n_both/n_single\n",
    "    return cdf"
   ]
  },
  {
   "cell_type": "code",
   "execution_count": 18,
   "metadata": {},
   "outputs": [
    {
     "ename": "KeyboardInterrupt",
     "evalue": "",
     "output_type": "error",
     "traceback": [
      "\u001b[0;31m---------------------------------------------------------------------------\u001b[0m",
      "\u001b[0;31mKeyboardInterrupt\u001b[0m                         Traceback (most recent call last)",
      "\u001b[0;32m<ipython-input-18-7bba64ac1bde>\u001b[0m in \u001b[0;36m<module>\u001b[0;34m\u001b[0m\n\u001b[0;32m----> 1\u001b[0;31m \u001b[0mmc_cdf\u001b[0m \u001b[0;34m=\u001b[0m \u001b[0mcdf_tally_events\u001b[0m\u001b[0;34m(\u001b[0m\u001b[0mburst_x\u001b[0m\u001b[0;34m,\u001b[0m \u001b[0mburst_y\u001b[0m\u001b[0;34m,\u001b[0m \u001b[0mburst_size\u001b[0m\u001b[0;34m,\u001b[0m \u001b[0mnp\u001b[0m\u001b[0;34m.\u001b[0m\u001b[0marange\u001b[0m\u001b[0;34m(\u001b[0m\u001b[0;36m100\u001b[0m\u001b[0;34m)\u001b[0m\u001b[0;34m)\u001b[0m\u001b[0;34m\u001b[0m\u001b[0;34m\u001b[0m\u001b[0m\n\u001b[0m\u001b[1;32m      2\u001b[0m \u001b[0mplt\u001b[0m\u001b[0;34m.\u001b[0m\u001b[0mplot\u001b[0m\u001b[0;34m(\u001b[0m\u001b[0mnp\u001b[0m\u001b[0;34m.\u001b[0m\u001b[0marange\u001b[0m\u001b[0;34m(\u001b[0m\u001b[0;36m100\u001b[0m\u001b[0;34m)\u001b[0m\u001b[0;34m,\u001b[0m \u001b[0mmc_cdf\u001b[0m\u001b[0;34m)\u001b[0m\u001b[0;34m;\u001b[0m\u001b[0;34m\u001b[0m\u001b[0;34m\u001b[0m\u001b[0m\n",
      "\u001b[0;32m<ipython-input-17-8747b2c11bf0>\u001b[0m in \u001b[0;36mcdf_tally_events\u001b[0;34m(burst_x, burst_y, burst_size, bins)\u001b[0m\n\u001b[1;32m     35\u001b[0m             \u001b[0;31m# Skip if the circle did not intersect the y-axis\u001b[0m\u001b[0;34m\u001b[0m\u001b[0;34m\u001b[0m\u001b[0;34m\u001b[0m\u001b[0m\n\u001b[1;32m     36\u001b[0m             \u001b[0;31m# (not going to be seen by either spacecraft).\u001b[0m\u001b[0;34m\u001b[0m\u001b[0;34m\u001b[0m\u001b[0;34m\u001b[0m\u001b[0m\n\u001b[0;32m---> 37\u001b[0;31m             \u001b[0;32mif\u001b[0m \u001b[0;32mnot\u001b[0m \u001b[0mcircle_intersect\u001b[0m\u001b[0;34m(\u001b[0m\u001b[0;34m[\u001b[0m\u001b[0;36m0\u001b[0m\u001b[0;34m,\u001b[0m \u001b[0;36m0\u001b[0m\u001b[0;34m,\u001b[0m \u001b[0;36m0\u001b[0m\u001b[0;34m,\u001b[0m \u001b[0;36m10\u001b[0m\u001b[0;34m]\u001b[0m\u001b[0;34m,\u001b[0m \u001b[0;34m[\u001b[0m\u001b[0mbx\u001b[0m\u001b[0;34m,\u001b[0m \u001b[0mby\u001b[0m\u001b[0;34m,\u001b[0m \u001b[0mbr\u001b[0m\u001b[0;34m]\u001b[0m\u001b[0;34m)\u001b[0m\u001b[0;34m:\u001b[0m\u001b[0;34m\u001b[0m\u001b[0;34m\u001b[0m\u001b[0m\n\u001b[0m\u001b[1;32m     38\u001b[0m                 \u001b[0;32mcontinue\u001b[0m\u001b[0;34m\u001b[0m\u001b[0;34m\u001b[0m\u001b[0m\n\u001b[1;32m     39\u001b[0m             \u001b[0;31m# Both see it\u001b[0m\u001b[0;34m\u001b[0m\u001b[0;34m\u001b[0m\u001b[0;34m\u001b[0m\u001b[0m\n",
      "\u001b[0;32m<ipython-input-16-f9012c7ce2e0>\u001b[0m in \u001b[0;36mcircle_intersect\u001b[0;34m(line_p, circle_p)\u001b[0m\n\u001b[1;32m      9\u001b[0m     \"\"\"\n\u001b[1;32m     10\u001b[0m     \u001b[0mline_p\u001b[0m\u001b[0;34m[\u001b[0m\u001b[0;36m0\u001b[0m\u001b[0;34m]\u001b[0m \u001b[0;34m-=\u001b[0m \u001b[0mcircle_p\u001b[0m\u001b[0;34m[\u001b[0m\u001b[0;36m0\u001b[0m\u001b[0;34m]\u001b[0m\u001b[0;34m;\u001b[0m \u001b[0mline_p\u001b[0m\u001b[0;34m[\u001b[0m\u001b[0;36m2\u001b[0m\u001b[0;34m]\u001b[0m \u001b[0;34m-=\u001b[0m \u001b[0mcircle_p\u001b[0m\u001b[0;34m[\u001b[0m\u001b[0;36m0\u001b[0m\u001b[0;34m]\u001b[0m\u001b[0;34m\u001b[0m\u001b[0;34m\u001b[0m\u001b[0m\n\u001b[0;32m---> 11\u001b[0;31m     \u001b[0mline_p\u001b[0m\u001b[0;34m[\u001b[0m\u001b[0;36m1\u001b[0m\u001b[0;34m]\u001b[0m \u001b[0;34m-=\u001b[0m \u001b[0mcircle_p\u001b[0m\u001b[0;34m[\u001b[0m\u001b[0;36m1\u001b[0m\u001b[0;34m]\u001b[0m\u001b[0;34m;\u001b[0m \u001b[0mline_p\u001b[0m\u001b[0;34m[\u001b[0m\u001b[0;36m3\u001b[0m\u001b[0;34m]\u001b[0m \u001b[0;34m-=\u001b[0m \u001b[0mcircle_p\u001b[0m\u001b[0;34m[\u001b[0m\u001b[0;36m1\u001b[0m\u001b[0;34m]\u001b[0m\u001b[0;34m\u001b[0m\u001b[0;34m\u001b[0m\u001b[0m\n\u001b[0m\u001b[1;32m     12\u001b[0m     \u001b[0mdx\u001b[0m \u001b[0;34m=\u001b[0m \u001b[0mline_p\u001b[0m\u001b[0;34m[\u001b[0m\u001b[0;36m2\u001b[0m\u001b[0;34m]\u001b[0m \u001b[0;34m-\u001b[0m \u001b[0mline_p\u001b[0m\u001b[0;34m[\u001b[0m\u001b[0;36m0\u001b[0m\u001b[0;34m]\u001b[0m\u001b[0;34m\u001b[0m\u001b[0;34m\u001b[0m\u001b[0m\n\u001b[1;32m     13\u001b[0m     \u001b[0mdy\u001b[0m \u001b[0;34m=\u001b[0m \u001b[0mline_p\u001b[0m\u001b[0;34m[\u001b[0m\u001b[0;36m3\u001b[0m\u001b[0;34m]\u001b[0m \u001b[0;34m-\u001b[0m \u001b[0mline_p\u001b[0m\u001b[0;34m[\u001b[0m\u001b[0;36m1\u001b[0m\u001b[0;34m]\u001b[0m\u001b[0;34m\u001b[0m\u001b[0;34m\u001b[0m\u001b[0m\n",
      "\u001b[0;31mKeyboardInterrupt\u001b[0m: "
     ]
    }
   ],
   "source": [
    "mc_cdf = cdf_tally_events(burst_x, burst_y, burst_size, np.arange(100))\n",
    "plt.plot(np.arange(100), mc_cdf);"
   ]
  },
  {
   "cell_type": "markdown",
   "metadata": {},
   "source": [
    "# Analytic Microburst Scale Size Model"
   ]
  },
  {
   "cell_type": "markdown",
   "metadata": {},
   "source": [
    "Here is the geometric model of the problem. The diagram below shows two spacecraft as blue cubes, separated by some distance $d$. Then for a microburst of a given radius $r$, we can show the furthest distance at which a microburst of size $r$ will be observed by both spacecraft. This case is shown with two black circles to the left and right with respect to the line that connects the two spacecraft. The center of both black circles is marked with a black dot. \n",
    "\n",
    "Now we find the fraction of coincident microbursts to all microbursts observed by one and not the other spacecraft.\n",
    "\n",
    "We first look at the number of coincident microbursts. Assume that we fire N microbursts into a world with an area $A_{world}$ (that is our canvas in the following diagram). The centers of microbursts that are coincidently observed must be at most a distance $r$ from both spacecraft. Geometrically we can visualize this by tracing the center of one of the black circles as we rotate it about one of the spacecraft location. The result of this rotation are the two red circles. The red shaded area in the middle, $A_1$ is the area in which if we place a microburst center, both spacercaft will see it.\n",
    "\n",
    "To find the number of microbursts observed by one and not the other spacecraft, consider the same picture, but now the microburst center must lie outside of $A_1$. From our earlier circle rotation we traced out the solid red curve, which coincides with the furthest that a microburst center can be and be observed by one or the other spacecraft. Thus the area of this region is $2 \\pi r^2 - A_1$. \n",
    "\n",
    "To put it all togeather, the fraction of coincident microbursts observed by two spacecraft is given by \n",
    "\n",
    "$$\n",
    "F = \\frac{A_1}{2 \\pi r^2 - A_1}\n",
    "$$. The Cumulative Distribution Fuction (CDF) is the derived by assuming a distribution of microbursts e.g. a Gaussian, and calculating $F$ as a function of $d$."
   ]
  },
  {
   "cell_type": "code",
   "execution_count": null,
   "metadata": {},
   "outputs": [],
   "source": [
    "Image(\"analytic_coincident_microburst_scale_size_bounds.png\")"
   ]
  },
  {
   "cell_type": "code",
   "execution_count": null,
   "metadata": {},
   "outputs": [],
   "source": [
    "A1 = lambda r, d: 2*r**2*np.arccos(d/(2*r)) - d/2*np.sqrt(4*r**2 - d**2)\n",
    "# def A1(r, d):\n",
    "    \n",
    "#     if 4*r**2 - d**2 >= 0:\n",
    "#         return 0\n",
    "#     else:\n",
    "#         return 2*r**2*np.arccos(d/(2*r)) - d/2*np.sqrt(4*r**2 - d**2)\n",
    "F = lambda r, d: A1(r, d)/(2*np.pi*r**2 - A1(r, d))"
   ]
  },
  {
   "cell_type": "markdown",
   "metadata": {},
   "source": [
    "Visualize the Analytical CDFs for a fixed-sized microburst"
   ]
  },
  {
   "cell_type": "code",
   "execution_count": null,
   "metadata": {},
   "outputs": [],
   "source": [
    "d = np.arange(100)\n",
    "r = np.arange(5, 25, 5)\n",
    "plt.figure(figsize=(10, 6))\n",
    "\n",
    "for r_i in r:\n",
    "    plt.plot(d, F(r_i, d), label=r'$r_0 = $'+str(r_i));\n",
    "plt.legend();\n",
    "plt.xlabel('Spacecraft Sepration'); plt.ylabel('F');"
   ]
  },
  {
   "cell_type": "markdown",
   "metadata": {},
   "source": [
    "# Validation of the MC vs Analytic models\n",
    "Here I assume that all microbursts are the same size and check if the MC and the analytical models give the same result. I will then generalize the analytic model to make a CDF assuming some scale size PDF and not one value."
   ]
  },
  {
   "cell_type": "code",
   "execution_count": null,
   "metadata": {},
   "outputs": [],
   "source": [
    "def get_frac(r0, N=int(1E5), bins=np.arange(0, bins[-1])):\n",
    "    \"\"\"\n",
    "    Validation function to get a fraction of microbursts observed\n",
    "    as a function of spacecraft separation, assuming a fixed\n",
    "    microburst scale size.\n",
    "    \"\"\"\n",
    "    # Run the simulation\n",
    "    burst_x = np.random.uniform(-grid_size, grid_size, size=N)\n",
    "    burst_y = np.random.uniform(-grid_size, grid_size, size=N)\n",
    "    r0 = r0*np.ones(N)\n",
    "    # Tally the simulated events to make a cdf\n",
    "    cdf = cdf_tally_events(burst_x, burst_y, r0, bins)\n",
    "    return cdf"
   ]
  },
  {
   "cell_type": "code",
   "execution_count": null,
   "metadata": {},
   "outputs": [],
   "source": [
    "start_time = time.time()\n",
    "MCfrac = get_frac(20)\n",
    "print('MC Run time {} s'.format(round(time.time()-start_time)))\n",
    "start_time = time.time()\n",
    "Afrac = F(20, np.arange(0, bins[-1]))\n",
    "print('Analytic Run time {} s'.format(round(time.time()-start_time)))"
   ]
  },
  {
   "cell_type": "code",
   "execution_count": null,
   "metadata": {},
   "outputs": [],
   "source": [
    "plt.plot(np.arange(bins[0], bins[-1]), MCfrac, 'r', label='MC'); \n",
    "plt.plot(np.arange(bins[0], bins[-1]), Afrac, 'b:', label='Analytic');\n",
    "plt.legend();"
   ]
  },
  {
   "cell_type": "markdown",
   "metadata": {},
   "source": [
    "# Generalize the Analytical Model to a Microburst PDF"
   ]
  },
  {
   "cell_type": "code",
   "execution_count": null,
   "metadata": {},
   "outputs": [],
   "source": [
    "def analytic_model(dist_kwargs, dist=scipy.stats.poisson sc_bins=np.arange(100), microburst_scales=np.arange(200)):\n",
    "    \"\"\"\n",
    "    Assuming a distribution for the microburst scale size, \n",
    "    calculate the microburst CDF at spacecraft separations \n",
    "    given by sc_bins kwarg. The contirbutions of \n",
    "    microbursts of sizes defined by the microburst_scales\n",
    "    kwarg is considered here, and is superposed and weighted\n",
    "    by their relative proibability of occuring as defined\n",
    "    by the scale size Gaussian PDF.\n",
    "    \"\"\"\n",
    "    # Assuming a distribution, calculate the probability of \n",
    "    # seeing a microburst of all sizes in microburst_scales.\n",
    "    norm_cdf = dist(*dist_kwargs).cdf(microburst_scales)\n",
    "    weights = norm_cdf[1:] - norm_cdf[:-1]\n",
    "    weights /= sum(weights)\n",
    "    # Apply the CDF weights to all microburst_scales\n",
    "    CDF_arr = np.nan*np.zeros((len(microburst_scales), len(sc_bins)))\n",
    "    for si, scale in enumerate(microburst_scales[:-1]):\n",
    "        CDF_arr[si, :] = weights[si]*F(scale, sc_bins)\n",
    "    return np.nansum(CDF_arr, axis=0)"
   ]
  },
  {
   "cell_type": "code",
   "execution_count": null,
   "metadata": {},
   "outputs": [],
   "source": [
    "cdfMC = mc_model((10, 20))"
   ]
  },
  {
   "cell_type": "code",
   "execution_count": null,
   "metadata": {},
   "outputs": [],
   "source": [
    "cdfA = analytic_model((10, 20))"
   ]
  },
  {
   "cell_type": "code",
   "execution_count": null,
   "metadata": {},
   "outputs": [],
   "source": [
    "plt.plot(cdfA, 'r', label='Analytic'); plt.plot(cdfMC, label='MC'); plt.legend();"
   ]
  },
  {
   "cell_type": "code",
   "execution_count": null,
   "metadata": {},
   "outputs": [],
   "source": []
  }
 ],
 "metadata": {
  "kernelspec": {
   "display_name": "Python 3",
   "language": "python",
   "name": "python3"
  },
  "language_info": {
   "codemirror_mode": {
    "name": "ipython",
    "version": 3
   },
   "file_extension": ".py",
   "mimetype": "text/x-python",
   "name": "python",
   "nbconvert_exporter": "python",
   "pygments_lexer": "ipython3",
   "version": "3.6.7"
  },
  "toc": {
   "base_numbering": 1,
   "nav_menu": {},
   "number_sections": true,
   "sideBar": true,
   "skip_h1_title": false,
   "title_cell": "Table of Contents",
   "title_sidebar": "Contents",
   "toc_cell": false,
   "toc_position": {},
   "toc_section_display": true,
   "toc_window_display": false
  }
 },
 "nbformat": 4,
 "nbformat_minor": 2
}
