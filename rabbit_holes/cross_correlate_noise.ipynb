{
 "cells": [
  {
   "cell_type": "markdown",
   "metadata": {},
   "source": [
    "# Cross-correlation coefficient distributions from pure noise"
   ]
  },
  {
   "cell_type": "markdown",
   "metadata": {},
   "source": [
    "In this notebook I explore the distributions of cross-correlation coeffiecients from cross-correlating pure noise. This test is necessary to determine if the AC6 cross-correlation coefficients are high enough to avoid falling into this pitfall."
   ]
  },
  {
   "cell_type": "code",
   "execution_count": 2,
   "metadata": {},
   "outputs": [],
   "source": [
    "import numpy as np\n",
    "import matplotlib.pyplot as plt\n",
    "%matplotlib inline\n",
    "np.random.seed(0) # For reproducibility"
   ]
  },
  {
   "cell_type": "markdown",
   "metadata": {},
   "source": [
    "Define background baselines and cross-correlation width in data points"
   ]
  },
  {
   "cell_type": "code",
   "execution_count": 3,
   "metadata": {},
   "outputs": [],
   "source": [
    "CC_width = 5\n",
    "n_trials = 1000\n",
    "baselines = np.array([10, 100, 500, 1000])"
   ]
  },
  {
   "cell_type": "markdown",
   "metadata": {},
   "source": [
    "Make a time series array with dimensions (CC_width x nBaslines x n_trials) where CC_width is the number of points to cross correlate, nBaseline is the number of baselines to study, and n_trials is how many random trails to cross-correlate. The noise-model used here Poisson at various count baselines"
   ]
  },
  {
   "cell_type": "code",
   "execution_count": 4,
   "metadata": {},
   "outputs": [],
   "source": [
    "timeseries = np.zeros((CC_width, len(baselines), n_trials), dtype=float)\n",
    "for i, baseline in enumerate(baselines):\n",
    "    for j in range(n_trials):\n",
    "        timeseries[:, i, j] = np.random.poisson(lam=baseline, size=CC_width)"
   ]
  },
  {
   "cell_type": "markdown",
   "metadata": {},
   "source": [
    "Now here we define the cross-correlation function"
   ]
  },
  {
   "cell_type": "code",
   "execution_count": 5,
   "metadata": {},
   "outputs": [],
   "source": [
    "def cross_correlate(x, y):\n",
    "    cc = np.correlate(x-x.mean(), y-y.mean(), mode='valid')\n",
    "    norm = np.sqrt(len(y)*len(y)*np.var(x)*np.var(y))\n",
    "    return cc/norm"
   ]
  },
  {
   "cell_type": "markdown",
   "metadata": {},
   "source": [
    "Now for each baseline, cross-correlate random pairs of noise from timeseries array"
   ]
  },
  {
   "cell_type": "code",
   "execution_count": 34,
   "metadata": {},
   "outputs": [],
   "source": [
    "cc_bins = np.arange(-1, 1.1, 0.2)\n",
    "# number of baselines x number of histrogram bins.\n",
    "cc_hist = np.zeros((len(baselines), len(cc_bins)-1), dtype=float) \n",
    "#np.random.choice(range(5))\n",
    "\n",
    "for i in range(len(baselines)):\n",
    "    for _ in range(n_trials):\n",
    "        # Pick two trials at random.\n",
    "        idxA, idxB = np.random.choice(np.arange(n_trials), size=2)\n",
    "        # Cross-correlate the two random time series.\n",
    "        cc = cross_correlate(timeseries[:, i, idxA], timeseries[:, i, idxB])\n",
    "        # Now histogram it.\n",
    "        cc_hist += np.histogram(cc, bins=cc_bins)[0]"
   ]
  },
  {
   "cell_type": "markdown",
   "metadata": {},
   "source": [
    "Normalize each histogram"
   ]
  },
  {
   "cell_type": "code",
   "execution_count": 38,
   "metadata": {},
   "outputs": [],
   "source": [
    "for i in range(cc_hist.shape[0]):\n",
    "    cc_hist[i, :] /= np.sum(cc_hist, axis=1)[i]"
   ]
  },
  {
   "cell_type": "code",
   "execution_count": 37,
   "metadata": {},
   "outputs": [
    {
     "data": {
      "image/png": "[encoded data removed]",
      "text/plain": [
       "<Figure size 1080x576 with 4 Axes>"
      ]
     },
     "metadata": {
      "needs_background": "light"
     },
     "output_type": "display_data"
    }
   ],
   "source": [
    "fig, ax = plt.subplots(1, 4, figsize=(15, 8))\n",
    "for i, baseline in enumerate(baselines):\n",
    "    ax[i].bar(cc_bins[1:], cc_hist[i, :], width=0.8*(cc_bins[1] - cc_bins[0]), label=baseline)\n",
    "# ax.text(0.01, 0.99, 'N = {}\\nerror_calc = {}\\ncc_width= {} s'.format(\n",
    "#         N, error, width), \n",
    "#         transform=ax.transAxes, va='top')\n",
    "#ax[-1].legend(title=\"Baseline\", fancybox=True)"
   ]
  },
  {
   "cell_type": "code",
   "execution_count": null,
   "metadata": {},
   "outputs": [],
   "source": []
  }
 ],
 "metadata": {
  "kernelspec": {
   "display_name": "Python 3",
   "language": "python",
   "name": "python3"
  },
  "language_info": {
   "codemirror_mode": {
    "name": "ipython",
    "version": 3
   },
   "file_extension": ".py",
   "mimetype": "text/x-python",
   "name": "python",
   "nbconvert_exporter": "python",
   "pygments_lexer": "ipython3",
   "version": "3.6.6"
  }
 },
 "nbformat": 4,
 "nbformat_minor": 2
}
