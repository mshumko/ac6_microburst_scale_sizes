{
 "cells": [
  {
   "cell_type": "markdown",
   "metadata": {},
   "source": [
    "# Calculate the microburst CDF and PDF\n",
    "Author: Mykahylo Shumko"
   ]
  },
  {
   "cell_type": "code",
   "execution_count": 3,
   "metadata": {},
   "outputs": [],
   "source": [
    "import pandas as pd\n",
    "import numpy as np\n",
    "import matplotlib.pyplot as plt"
   ]
  },
  {
   "cell_type": "code",
   "execution_count": 4,
   "metadata": {},
   "outputs": [],
   "source": [
    "WRITE_CDF_TO_FILE = False\n",
    "\n",
    "CATALOG_VERSION = 4\n",
    "CAT_PATH = ('/home/mike/research/ac6_microburst_scale_sizes/data/'\n",
    "            'coincident_microbursts_catalogues/'\n",
    "            'AC6_coincident_microbursts_v{}.txt'.format(CATALOG_VERSION))"
   ]
  },
  {
   "cell_type": "code",
   "execution_count": 5,
   "metadata": {},
   "outputs": [],
   "source": [
    "bins = np.arange(0, 200, 5)       # Separation bins\n",
    "CC_THRESH = 0.8                   # Temporal CC threshold\n",
    "CURTAIN_THRESH = 0.3              # Amount by which the temporal CC must be greater than the spatial CC.\n",
    "PEAK_STD_THRESH = 3               # The number of standard deviations that a detection must be above a 10% \n",
    "                                  # Paul baseline."
   ]
  },
  {
   "cell_type": "markdown",
   "metadata": {},
   "source": [
    "## Load catalog"
   ]
  },
  {
   "cell_type": "code",
   "execution_count": 6,
   "metadata": {},
   "outputs": [],
   "source": [
    "cat = pd.read_csv(CAT_PATH)"
   ]
  },
  {
   "cell_type": "code",
   "execution_count": 7,
   "metadata": {},
   "outputs": [
    {
     "name": "stdout",
     "output_type": "stream",
     "text": [
      "(85434, 18)\n"
     ]
    },
    {
     "data": {
      "text/html": [
       "<div>\n",
       "<style scoped>\n",
       "    .dataframe tbody tr th:only-of-type {\n",
       "        vertical-align: middle;\n",
       "    }\n",
       "\n",
       "    .dataframe tbody tr th {\n",
       "        vertical-align: top;\n",
       "    }\n",
       "\n",
       "    .dataframe thead th {\n",
       "        text-align: right;\n",
       "    }\n",
       "</style>\n",
       "<table border=\"1\" class=\"dataframe\">\n",
       "  <thead>\n",
       "    <tr style=\"text-align: right;\">\n",
       "      <th></th>\n",
       "      <th>dateTime</th>\n",
       "      <th>dos1rate</th>\n",
       "      <th>peak_std</th>\n",
       "      <th>Lm_OPQ</th>\n",
       "      <th>MLT_OPQ</th>\n",
       "      <th>lat</th>\n",
       "      <th>lon</th>\n",
       "      <th>alt</th>\n",
       "      <th>Dist_In_Track</th>\n",
       "      <th>Lag_In_Track</th>\n",
       "      <th>Dist_Total</th>\n",
       "      <th>Loss_Cone_Type</th>\n",
       "      <th>flag</th>\n",
       "      <th>AE</th>\n",
       "      <th>time_cc</th>\n",
       "      <th>space_cc</th>\n",
       "      <th>time_spatial_A</th>\n",
       "      <th>time_spatial_B</th>\n",
       "    </tr>\n",
       "  </thead>\n",
       "  <tbody>\n",
       "    <tr>\n",
       "      <th>0</th>\n",
       "      <td>2014-06-28 15:25:12.199999</td>\n",
       "      <td>20.0001</td>\n",
       "      <td>1.414217</td>\n",
       "      <td>2.32720</td>\n",
       "      <td>22.9078</td>\n",
       "      <td>53.0947</td>\n",
       "      <td>116.772</td>\n",
       "      <td>634.221</td>\n",
       "      <td>105.277</td>\n",
       "      <td>13.9187</td>\n",
       "      <td>105.280</td>\n",
       "      <td>1.0</td>\n",
       "      <td>4.0</td>\n",
       "      <td>458.0</td>\n",
       "      <td>NaN</td>\n",
       "      <td>NaN</td>\n",
       "      <td>2014-06-28 15:24:58.281299</td>\n",
       "      <td>2014-06-28 15:25:12.199999</td>\n",
       "    </tr>\n",
       "    <tr>\n",
       "      <th>1</th>\n",
       "      <td>2014-06-28 15:25:13.900000</td>\n",
       "      <td>20.0001</td>\n",
       "      <td>1.414217</td>\n",
       "      <td>2.32222</td>\n",
       "      <td>22.9069</td>\n",
       "      <td>52.9924</td>\n",
       "      <td>116.727</td>\n",
       "      <td>634.104</td>\n",
       "      <td>105.278</td>\n",
       "      <td>13.9187</td>\n",
       "      <td>105.281</td>\n",
       "      <td>1.0</td>\n",
       "      <td>4.0</td>\n",
       "      <td>458.0</td>\n",
       "      <td>NaN</td>\n",
       "      <td>-0.090899</td>\n",
       "      <td>2014-06-28 15:24:59.981300</td>\n",
       "      <td>2014-06-28 15:25:13.900000</td>\n",
       "    </tr>\n",
       "    <tr>\n",
       "      <th>2</th>\n",
       "      <td>2014-06-28 15:25:16</td>\n",
       "      <td>19.9981</td>\n",
       "      <td>1.414146</td>\n",
       "      <td>2.31060</td>\n",
       "      <td>22.9047</td>\n",
       "      <td>52.8662</td>\n",
       "      <td>116.665</td>\n",
       "      <td>633.991</td>\n",
       "      <td>105.279</td>\n",
       "      <td>13.9188</td>\n",
       "      <td>105.282</td>\n",
       "      <td>1.0</td>\n",
       "      <td>4.0</td>\n",
       "      <td>458.0</td>\n",
       "      <td>NaN</td>\n",
       "      <td>0.446300</td>\n",
       "      <td>2014-06-28 15:25:02.081200</td>\n",
       "      <td>2014-06-28 15:25:16</td>\n",
       "    </tr>\n",
       "    <tr>\n",
       "      <th>3</th>\n",
       "      <td>2014-06-28 15:25:17.300000</td>\n",
       "      <td>10.0001</td>\n",
       "      <td>1.000005</td>\n",
       "      <td>2.29984</td>\n",
       "      <td>22.9027</td>\n",
       "      <td>52.7880</td>\n",
       "      <td>116.630</td>\n",
       "      <td>633.939</td>\n",
       "      <td>105.280</td>\n",
       "      <td>13.9188</td>\n",
       "      <td>105.283</td>\n",
       "      <td>1.0</td>\n",
       "      <td>4.0</td>\n",
       "      <td>458.0</td>\n",
       "      <td>NaN</td>\n",
       "      <td>-0.213357</td>\n",
       "      <td>2014-06-28 15:25:03.381200</td>\n",
       "      <td>2014-06-28 15:25:17.300000</td>\n",
       "    </tr>\n",
       "    <tr>\n",
       "      <th>4</th>\n",
       "      <td>2014-06-28 15:25:19</td>\n",
       "      <td>10.0001</td>\n",
       "      <td>1.000005</td>\n",
       "      <td>2.28859</td>\n",
       "      <td>22.9007</td>\n",
       "      <td>52.6857</td>\n",
       "      <td>116.582</td>\n",
       "      <td>633.892</td>\n",
       "      <td>105.281</td>\n",
       "      <td>13.9188</td>\n",
       "      <td>105.284</td>\n",
       "      <td>1.0</td>\n",
       "      <td>4.0</td>\n",
       "      <td>458.0</td>\n",
       "      <td>NaN</td>\n",
       "      <td>0.290244</td>\n",
       "      <td>2014-06-28 15:25:05.081200</td>\n",
       "      <td>2014-06-28 15:25:19</td>\n",
       "    </tr>\n",
       "  </tbody>\n",
       "</table>\n",
       "</div>"
      ],
      "text/plain": [
       "                     dateTime  dos1rate  peak_std   Lm_OPQ  MLT_OPQ      lat  \\\n",
       "0  2014-06-28 15:25:12.199999   20.0001  1.414217  2.32720  22.9078  53.0947   \n",
       "1  2014-06-28 15:25:13.900000   20.0001  1.414217  2.32222  22.9069  52.9924   \n",
       "2         2014-06-28 15:25:16   19.9981  1.414146  2.31060  22.9047  52.8662   \n",
       "3  2014-06-28 15:25:17.300000   10.0001  1.000005  2.29984  22.9027  52.7880   \n",
       "4         2014-06-28 15:25:19   10.0001  1.000005  2.28859  22.9007  52.6857   \n",
       "\n",
       "       lon      alt  Dist_In_Track  Lag_In_Track  Dist_Total  Loss_Cone_Type  \\\n",
       "0  116.772  634.221        105.277       13.9187     105.280             1.0   \n",
       "1  116.727  634.104        105.278       13.9187     105.281             1.0   \n",
       "2  116.665  633.991        105.279       13.9188     105.282             1.0   \n",
       "3  116.630  633.939        105.280       13.9188     105.283             1.0   \n",
       "4  116.582  633.892        105.281       13.9188     105.284             1.0   \n",
       "\n",
       "   flag     AE  time_cc  space_cc              time_spatial_A  \\\n",
       "0   4.0  458.0      NaN       NaN  2014-06-28 15:24:58.281299   \n",
       "1   4.0  458.0      NaN -0.090899  2014-06-28 15:24:59.981300   \n",
       "2   4.0  458.0      NaN  0.446300  2014-06-28 15:25:02.081200   \n",
       "3   4.0  458.0      NaN -0.213357  2014-06-28 15:25:03.381200   \n",
       "4   4.0  458.0      NaN  0.290244  2014-06-28 15:25:05.081200   \n",
       "\n",
       "               time_spatial_B  \n",
       "0  2014-06-28 15:25:12.199999  \n",
       "1  2014-06-28 15:25:13.900000  \n",
       "2         2014-06-28 15:25:16  \n",
       "3  2014-06-28 15:25:17.300000  \n",
       "4         2014-06-28 15:25:19  "
      ]
     },
     "execution_count": 7,
     "metadata": {},
     "output_type": "execute_result"
    }
   ],
   "source": [
    "print(cat.shape); cat.head()"
   ]
  },
  {
   "cell_type": "markdown",
   "metadata": {},
   "source": [
    "As a reference, what is the number of valid spatial and temporal CCs?"
   ]
  },
  {
   "cell_type": "code",
   "execution_count": 8,
   "metadata": {},
   "outputs": [
    {
     "data": {
      "text/plain": [
       "80445"
      ]
     },
     "execution_count": 8,
     "metadata": {},
     "output_type": "execute_result"
    }
   ],
   "source": [
    "cat[(~np.isnan(cat['time_cc'])) & (~np.isnan(cat['space_cc']))].shape[0]"
   ]
  },
  {
   "cell_type": "markdown",
   "metadata": {},
   "source": [
    "And now out of all of these detections, how many events had a temporal CC above CC_THRESH?"
   ]
  },
  {
   "cell_type": "code",
   "execution_count": 9,
   "metadata": {},
   "outputs": [
    {
     "data": {
      "text/plain": [
       "3001"
      ]
     },
     "execution_count": 9,
     "metadata": {},
     "output_type": "execute_result"
    }
   ],
   "source": [
    "cat[cat['time_cc'] > CC_THRESH].shape[0]"
   ]
  },
  {
   "cell_type": "markdown",
   "metadata": {},
   "source": [
    "## Find coincident events\n",
    "I define events that are coincident by the following criteria:\n",
    " - High temporal CC\n",
    " - Temporal CC > Spatial CC + CURTAIN_THRESH\n",
    " - Events inside the radition belt i.e. 4 < L < 8.\n",
    " - Not above US or the SAA\n",
    " - Optional: at least 2 standard deviations above the 10% baseline. This does not seem to influince the CDF much, but with this on the CDF is smoother."
   ]
  },
  {
   "cell_type": "markdown",
   "metadata": {},
   "source": [
    "First filter by high temporal CC"
   ]
  },
  {
   "cell_type": "code",
   "execution_count": 10,
   "metadata": {},
   "outputs": [],
   "source": [
    "coincidentEvents = cat[cat['time_cc'] >= CC_THRESH]"
   ]
  },
  {
   "cell_type": "markdown",
   "metadata": {},
   "source": [
    "Filter by L (only radiation belt)"
   ]
  },
  {
   "cell_type": "code",
   "execution_count": 11,
   "metadata": {},
   "outputs": [],
   "source": [
    "coincidentEvents = coincidentEvents[(np.abs(coincidentEvents['Lm_OPQ']) > 4) & \n",
    "                                    (np.abs(coincidentEvents['Lm_OPQ']) < 8)]"
   ]
  },
  {
   "cell_type": "markdown",
   "metadata": {},
   "source": [
    "Filter out curtains"
   ]
  },
  {
   "cell_type": "code",
   "execution_count": 12,
   "metadata": {},
   "outputs": [],
   "source": [
    "coincidentEvents = coincidentEvents[coincidentEvents['time_cc'] > coincidentEvents['space_cc']+CURTAIN_THRESH]"
   ]
  },
  {
   "cell_type": "markdown",
   "metadata": {},
   "source": [
    "Filter out detections made above the US to completely get rid of potential ground transmitter noise"
   ]
  },
  {
   "cell_type": "code",
   "execution_count": 13,
   "metadata": {},
   "outputs": [],
   "source": [
    "coincidentEvents = coincidentEvents[\n",
    "                ((coincidentEvents['lon'] > -60) | (coincidentEvents['lon'] < -140)) |\n",
    "                ((coincidentEvents['lat'] > 70) | (coincidentEvents['lat'] < 15))\n",
    "                                ]"
   ]
  },
  {
   "cell_type": "markdown",
   "metadata": {},
   "source": [
    "Filter out detections made above the SAA to get rid of any potential for noisy detections due to saturation"
   ]
  },
  {
   "cell_type": "code",
   "execution_count": 14,
   "metadata": {},
   "outputs": [],
   "source": [
    "coincidentEvents = coincidentEvents[\n",
    "                ((coincidentEvents['lon'] > 30)  | (coincidentEvents['lon'] < -116)) |\n",
    "                ((coincidentEvents['lat'] < -90) | (coincidentEvents['lat'] > 0))\n",
    "                                ]"
   ]
  },
  {
   "cell_type": "markdown",
   "metadata": {},
   "source": [
    "Optional: filter events which were at least 2 standard deviations above the 10% baseline"
   ]
  },
  {
   "cell_type": "code",
   "execution_count": 15,
   "metadata": {},
   "outputs": [],
   "source": [
    "if PEAK_STD_THRESH is not None:\n",
    "    coincidentEvents = coincidentEvents[coincidentEvents['peak_std'] > PEAK_STD_THRESH]"
   ]
  },
  {
   "cell_type": "markdown",
   "metadata": {},
   "source": [
    "### Sanity check: where were these detections made? \n",
    "This check makes sure that the US and SAA filters work correctly"
   ]
  },
  {
   "cell_type": "code",
   "execution_count": 16,
   "metadata": {},
   "outputs": [
    {
     "data": {
      "image/png": "[encoded data removed]",
      "text/plain": [
       "<Figure size 432x288 with 1 Axes>"
      ]
     },
     "metadata": {
      "needs_background": "light"
     },
     "output_type": "display_data"
    }
   ],
   "source": [
    "coincidentEvents.plot.scatter('lon', 'lat', c='k');"
   ]
  },
  {
   "cell_type": "markdown",
   "metadata": {},
   "source": [
    "# Calculate the CDF Attempt 1\n",
    "The microburst CDF at a separation $d$ is defined as the fraction of coincident microbursts observed at distance d to all the coincident microbursts in other words,\n",
    "\n",
    "$$\n",
    "CDF(d) = \\frac{coincident > d}{all \\ coincident}\n",
    "$$\n",
    "\n",
    "The intuitive way to think about this is with an example. When $d = 0$ km, the CDF = 1 i.e. 100% of microbursts were larger than $d$ and when $d = 25$ km the CDF = 0.4 i.e 40% of microbursts had a scale size larger than $d$.\n",
    "\n",
    "First Calculate the total number of coincident microbursts"
   ]
  },
  {
   "cell_type": "code",
   "execution_count": 17,
   "metadata": {},
   "outputs": [
    {
     "name": "stdout",
     "output_type": "stream",
     "text": [
      "1026\n"
     ]
    }
   ],
   "source": [
    "totalEvents = len(coincidentEvents); print(totalEvents)"
   ]
  },
  {
   "cell_type": "markdown",
   "metadata": {},
   "source": [
    "Now iterate over each separation bin and calculate the CDF"
   ]
  },
  {
   "cell_type": "code",
   "execution_count": 18,
   "metadata": {},
   "outputs": [],
   "source": [
    "cdf = np.array([(coincidentEvents['Dist_Total'] >= di).sum()/totalEvents for di in bins])\n",
    "num = np.array([(coincidentEvents['Dist_Total'] >= di).sum() for di in bins])"
   ]
  },
  {
   "cell_type": "code",
   "execution_count": 19,
   "metadata": {},
   "outputs": [
    {
     "data": {
      "image/png": "[encoded data removed]",
      "text/plain": [
       "<Figure size 576x576 with 2 Axes>"
      ]
     },
     "metadata": {
      "needs_background": "light"
     },
     "output_type": "display_data"
    }
   ],
   "source": [
    "fig, ax = plt.subplots(2, sharex=True, figsize=(8, 8))\n",
    "ax[0].plot(bins, cdf, 'k'); ax[0].set_ylabel('CDF');\n",
    "ax[1].plot(bins, num, 'k'); ax[1].set_ylabel('Cumulative number of detections')\n",
    "ax[1].set_xlabel('Total Separation [km]');"
   ]
  },
  {
   "cell_type": "markdown",
   "metadata": {},
   "source": [
    "## Calculate the PDF\n",
    "by just taking the derivative of the CDF and constraining the area to 1."
   ]
  },
  {
   "cell_type": "code",
   "execution_count": 20,
   "metadata": {},
   "outputs": [],
   "source": [
    "pdf = np.convolve([-1, 1], cdf, mode='valid')"
   ]
  },
  {
   "cell_type": "code",
   "execution_count": 21,
   "metadata": {},
   "outputs": [
    {
     "name": "stdout",
     "output_type": "stream",
     "text": [
      "Integral of the microburst PDF 0.98\n"
     ]
    }
   ],
   "source": [
    "print('Integral of the microburst PDF', round(sum(pdf), 2))"
   ]
  },
  {
   "cell_type": "code",
   "execution_count": 22,
   "metadata": {},
   "outputs": [
    {
     "data": {
      "image/png": "[encoded data removed]",
      "text/plain": [
       "<Figure size 432x288 with 1 Axes>"
      ]
     },
     "metadata": {
      "needs_background": "light"
     },
     "output_type": "display_data"
    }
   ],
   "source": [
    "plt.plot(bins[:-1], pdf, 'k'); plt.xlabel('Total Separation [km]'); plt.ylabel('PDF');"
   ]
  },
  {
   "cell_type": "code",
   "execution_count": 23,
   "metadata": {},
   "outputs": [],
   "source": [
    "if WRITE_CDF_TO_FILE:\n",
    "    data = np.vstack((bins[:-1], cdf[:-1], pdf)).T\n",
    "    pd.DataFrame(data=data).to_csv('microburst_cdf_pdf_v0.csv', \n",
    "                                   header=['Dist_Total', 'CDF', 'PDF'], index=False)"
   ]
  },
  {
   "cell_type": "markdown",
   "metadata": {},
   "source": [
    "# Calculate the CDF Attempt 2\n",
    "Here I attempt to account for the number of seconds that AC-6 took data togeather to remove a bias that comes from certain separations having more data than other separations. \n",
    "\n",
    "The number of AC-6 seconds taken between separations a and b is given by the exposure, $E(a, b)$. The exposure is calculated by finding all 10 Hz data that were taking simulatenorusly by units A and B. Furthermore the dos1rate data cannot be negative i.e. not -1E31 error values, and the data flag = 0. To take the exposure time into account, I reformulate the CDF in the following functional form\n",
    "\n",
    "$$\n",
    "CDF(d) = \\frac{(coincident > d)/E(d, \\inf)}{(all \\ coincident)/E(0, \\inf)} = \\Big(\\frac{(coincident > d)}{(all \\ coincident)}\\Big) \\Big(\\frac{E(0, \\inf)}{E(d, \\inf)}\\Big)\n",
    "$$"
   ]
  },
  {
   "cell_type": "code",
   "execution_count": 59,
   "metadata": {},
   "outputs": [],
   "source": [
    "EXPOSURE_PATH = '/home/mike/research/ac6_microburst_scale_sizes/data/norm/ac6_norm_all.csv'\n",
    "E = pd.read_csv(EXPOSURE_PATH, index_col=0)"
   ]
  },
  {
   "cell_type": "code",
   "execution_count": 63,
   "metadata": {},
   "outputs": [
    {
     "data": {
      "text/html": [
       "<div>\n",
       "<style scoped>\n",
       "    .dataframe tbody tr th:only-of-type {\n",
       "        vertical-align: middle;\n",
       "    }\n",
       "\n",
       "    .dataframe tbody tr th {\n",
       "        vertical-align: top;\n",
       "    }\n",
       "\n",
       "    .dataframe thead th {\n",
       "        text-align: right;\n",
       "    }\n",
       "</style>\n",
       "<table border=\"1\" class=\"dataframe\">\n",
       "  <thead>\n",
       "    <tr style=\"text-align: right;\">\n",
       "      <th></th>\n",
       "      <th>Seconds</th>\n",
       "    </tr>\n",
       "    <tr>\n",
       "      <th>Separation [km]</th>\n",
       "      <th></th>\n",
       "    </tr>\n",
       "  </thead>\n",
       "  <tbody>\n",
       "    <tr>\n",
       "      <th>0</th>\n",
       "      <td>91806.1</td>\n",
       "    </tr>\n",
       "    <tr>\n",
       "      <th>5</th>\n",
       "      <td>77760.1</td>\n",
       "    </tr>\n",
       "    <tr>\n",
       "      <th>10</th>\n",
       "      <td>25719.1</td>\n",
       "    </tr>\n",
       "    <tr>\n",
       "      <th>15</th>\n",
       "      <td>46883.9</td>\n",
       "    </tr>\n",
       "    <tr>\n",
       "      <th>20</th>\n",
       "      <td>30213.5</td>\n",
       "    </tr>\n",
       "  </tbody>\n",
       "</table>\n",
       "</div>"
      ],
      "text/plain": [
       "                 Seconds\n",
       "Separation [km]         \n",
       "0                91806.1\n",
       "5                77760.1\n",
       "10               25719.1\n",
       "15               46883.9\n",
       "20               30213.5"
      ]
     },
     "execution_count": 63,
     "metadata": {},
     "output_type": "execute_result"
    }
   ],
   "source": [
    "E.head()"
   ]
  },
  {
   "cell_type": "markdown",
   "metadata": {},
   "source": [
    "Visualize how the $E(0, \\inf)/E(d, \\inf)$ term looks like as a function of d"
   ]
  },
  {
   "cell_type": "code",
   "execution_count": 104,
   "metadata": {},
   "outputs": [],
   "source": [
    "weights = [E.loc[0:500].sum()/E.loc[d:500].sum() for d in range(0, 201, 5)]"
   ]
  },
  {
   "cell_type": "code",
   "execution_count": 105,
   "metadata": {},
   "outputs": [
    {
     "data": {
      "image/png": "[encoded data removed]",
      "text/plain": [
       "<Figure size 432x288 with 1 Axes>"
      ]
     },
     "metadata": {
      "needs_background": "light"
     },
     "output_type": "display_data"
    }
   ],
   "source": [
    "plt.plot(E.loc[0:200].index, weights);"
   ]
  },
  {
   "cell_type": "code",
   "execution_count": 106,
   "metadata": {},
   "outputs": [],
   "source": [
    "cdf2 = np.array([(coincidentEvents['Dist_Total'] >= di).sum()/totalEvents*wi for di, wi in zip(bins, weights)])"
   ]
  },
  {
   "cell_type": "code",
   "execution_count": 108,
   "metadata": {},
   "outputs": [
    {
     "data": {
      "text/plain": [
       "[<matplotlib.lines.Line2D at 0x7fb170303f28>]"
      ]
     },
     "execution_count": 108,
     "metadata": {},
     "output_type": "execute_result"
    },
    {
     "data": {
      "image/png": "[encoded data removed]",
      "text/plain": [
       "<Figure size 432x288 with 1 Axes>"
      ]
     },
     "metadata": {
      "needs_background": "light"
     },
     "output_type": "display_data"
    }
   ],
   "source": [
    "plt.plot(bins, cdf2); plt.plot(bins, cdf)"
   ]
  },
  {
   "cell_type": "markdown",
   "metadata": {},
   "source": [
    "Need to check the detections above 100 km."
   ]
  }
 ],
 "metadata": {
  "kernelspec": {
   "display_name": "Python 3",
   "language": "python",
   "name": "python3"
  },
  "language_info": {
   "codemirror_mode": {
    "name": "ipython",
    "version": 3
   },
   "file_extension": ".py",
   "mimetype": "text/x-python",
   "name": "python",
   "nbconvert_exporter": "python",
   "pygments_lexer": "ipython3",
   "version": "3.6.7"
  }
 },
 "nbformat": 4,
 "nbformat_minor": 2
}
