{
 "cells": [
  {
   "cell_type": "markdown",
   "metadata": {},
   "source": [
    "# Calculate the microburst CDF and PDF\n",
    "Author: Mykahylo Shumko"
   ]
  },
  {
   "cell_type": "code",
   "execution_count": 45,
   "metadata": {},
   "outputs": [],
   "source": [
    "import pandas as pd\n",
    "import numpy as np\n",
    "import scipy.integrate\n",
    "import matplotlib.pyplot as plt"
   ]
  },
  {
   "cell_type": "code",
   "execution_count": 46,
   "metadata": {},
   "outputs": [],
   "source": [
    "WRITE_CDF_TO_FILE = False\n",
    "\n",
    "CATALOG_VERSION = 6\n",
    "CAT_PATH = ('/home/mike/research/ac6_microburst_scale_sizes/data/'\n",
    "            'coincident_microbursts_catalogues/'\n",
    "            'AC6_coincident_microbursts_sorted_Brady_v{}.txt'.format(CATALOG_VERSION))\n",
    "\n",
    "# EXPOSURE_PATH = '/home/mike/research/ac6_microburst_scale_sizes/data/norm/ac6_norm_all_cdf.csv'\n",
    "# EXPOSURE_PATH = '/home/mike/research/ac6_microburst_scale_sizes/data/norm/ac6_norm_all_2km_bins.csv'\n",
    "EXPOSURE_PATH = '/home/mike/research/ac6_microburst_scale_sizes/data/norm/ac6_norm_all_3km_bins.csv'\n",
    "# EXPOSURE_PATH = '/home/mike/research/ac6_microburst_scale_sizes/data/norm/ac6_norm_all_5km_bins_2km_offset.csv'\n",
    "CDF_ERROR_PATH = '/home/mike/research/ac6_microburst_scale_sizes/data/cdf_std_v0.csv'"
   ]
  },
  {
   "cell_type": "code",
   "execution_count": 47,
   "metadata": {},
   "outputs": [],
   "source": [
    "CC_THRESH = 0.8                   # Temporal CC threshold\n",
    "CURTAIN_THRESH = 0                # Amount by which the temporal CC must be greater than the spatial CC.\n",
    "PEAK_STD_THRESH = None            # The number of standard deviations that a detection must be above a 10% \n",
    "                                  # Paul baseline.\n",
    "WIDTH_THRESH = None               # Width threshold in units of %/100.\n",
    "MAX_SEP = 100                     # Maximum separation to use when calculating PDF and CDF."
   ]
  },
  {
   "cell_type": "markdown",
   "metadata": {},
   "source": [
    "## Load catalog"
   ]
  },
  {
   "cell_type": "code",
   "execution_count": 48,
   "metadata": {},
   "outputs": [],
   "source": [
    "cat = pd.read_csv(CAT_PATH)"
   ]
  },
  {
   "cell_type": "code",
   "execution_count": 49,
   "metadata": {},
   "outputs": [
    {
     "name": "stdout",
     "output_type": "stream",
     "text": [
      "(662, 20)\n"
     ]
    },
    {
     "data": {
      "text/html": [
       "<div>\n",
       "<style scoped>\n",
       "    .dataframe tbody tr th:only-of-type {\n",
       "        vertical-align: middle;\n",
       "    }\n",
       "\n",
       "    .dataframe tbody tr th {\n",
       "        vertical-align: top;\n",
       "    }\n",
       "\n",
       "    .dataframe thead th {\n",
       "        text-align: right;\n",
       "    }\n",
       "</style>\n",
       "<table border=\"1\" class=\"dataframe\">\n",
       "  <thead>\n",
       "    <tr style=\"text-align: right;\">\n",
       "      <th></th>\n",
       "      <th>dateTime</th>\n",
       "      <th>dos1rate</th>\n",
       "      <th>peak_std</th>\n",
       "      <th>Lm_OPQ</th>\n",
       "      <th>MLT_OPQ</th>\n",
       "      <th>lat</th>\n",
       "      <th>lon</th>\n",
       "      <th>alt</th>\n",
       "      <th>Dist_In_Track</th>\n",
       "      <th>Lag_In_Track</th>\n",
       "      <th>Dist_Total</th>\n",
       "      <th>Loss_Cone_Type</th>\n",
       "      <th>flag</th>\n",
       "      <th>AE</th>\n",
       "      <th>time_cc</th>\n",
       "      <th>space_cc</th>\n",
       "      <th>time_spatial_A</th>\n",
       "      <th>time_spatial_B</th>\n",
       "      <th>peak_width_A</th>\n",
       "      <th>peak_width_B</th>\n",
       "    </tr>\n",
       "  </thead>\n",
       "  <tbody>\n",
       "    <tr>\n",
       "      <th>0</th>\n",
       "      <td>2014-12-20 04:06:32.500000</td>\n",
       "      <td>230.001</td>\n",
       "      <td>2.523019</td>\n",
       "      <td>7.22304</td>\n",
       "      <td>9.59286</td>\n",
       "      <td>70.8986</td>\n",
       "      <td>71.127800</td>\n",
       "      <td>671.856</td>\n",
       "      <td>467.194</td>\n",
       "      <td>62.1174</td>\n",
       "      <td>467.451</td>\n",
       "      <td>1.0</td>\n",
       "      <td>4.0</td>\n",
       "      <td>88.0</td>\n",
       "      <td>0.838697</td>\n",
       "      <td>0.169975</td>\n",
       "      <td>2014-12-20 04:05:30.382600</td>\n",
       "      <td>2014-12-20 04:06:32.500000</td>\n",
       "      <td>NaN</td>\n",
       "      <td>0.683457</td>\n",
       "    </tr>\n",
       "    <tr>\n",
       "      <th>1</th>\n",
       "      <td>2015-03-30 08:30:29.699999</td>\n",
       "      <td>200.001</td>\n",
       "      <td>4.248539</td>\n",
       "      <td>6.71147</td>\n",
       "      <td>22.48060</td>\n",
       "      <td>-63.0605</td>\n",
       "      <td>-167.832000</td>\n",
       "      <td>702.558</td>\n",
       "      <td>218.684</td>\n",
       "      <td>29.1986</td>\n",
       "      <td>218.716</td>\n",
       "      <td>1.0</td>\n",
       "      <td>0.0</td>\n",
       "      <td>53.0</td>\n",
       "      <td>0.807756</td>\n",
       "      <td>-0.243157</td>\n",
       "      <td>2015-03-30 08:30:00.501399</td>\n",
       "      <td>2015-03-30 08:30:29.699999</td>\n",
       "      <td>0.200000</td>\n",
       "      <td>0.585546</td>\n",
       "    </tr>\n",
       "    <tr>\n",
       "      <th>2</th>\n",
       "      <td>2015-04-04 12:34:40.200000</td>\n",
       "      <td>640.003</td>\n",
       "      <td>2.826754</td>\n",
       "      <td>6.68557</td>\n",
       "      <td>10.60430</td>\n",
       "      <td>-75.4475</td>\n",
       "      <td>-0.796446</td>\n",
       "      <td>667.406</td>\n",
       "      <td>192.072</td>\n",
       "      <td>25.5132</td>\n",
       "      <td>192.095</td>\n",
       "      <td>0.0</td>\n",
       "      <td>0.0</td>\n",
       "      <td>490.0</td>\n",
       "      <td>0.891613</td>\n",
       "      <td>-0.088424</td>\n",
       "      <td>2015-04-04 12:34:40.200000</td>\n",
       "      <td>2015-04-04 12:35:05.713200</td>\n",
       "      <td>0.564084</td>\n",
       "      <td>0.731709</td>\n",
       "    </tr>\n",
       "    <tr>\n",
       "      <th>3</th>\n",
       "      <td>2015-04-04 14:11:35.100000</td>\n",
       "      <td>429.959</td>\n",
       "      <td>3.209049</td>\n",
       "      <td>7.60874</td>\n",
       "      <td>11.45280</td>\n",
       "      <td>-79.1931</td>\n",
       "      <td>-10.744800</td>\n",
       "      <td>671.100</td>\n",
       "      <td>191.976</td>\n",
       "      <td>25.5093</td>\n",
       "      <td>191.999</td>\n",
       "      <td>0.0</td>\n",
       "      <td>0.0</td>\n",
       "      <td>84.0</td>\n",
       "      <td>0.820881</td>\n",
       "      <td>-0.057296</td>\n",
       "      <td>2015-04-04 14:11:09.590700</td>\n",
       "      <td>2015-04-04 14:11:35.100000</td>\n",
       "      <td>0.657117</td>\n",
       "      <td>0.524206</td>\n",
       "    </tr>\n",
       "    <tr>\n",
       "      <th>4</th>\n",
       "      <td>2015-04-14 20:24:19.199999</td>\n",
       "      <td>399.962</td>\n",
       "      <td>3.328963</td>\n",
       "      <td>5.20606</td>\n",
       "      <td>13.12250</td>\n",
       "      <td>-70.4918</td>\n",
       "      <td>-127.485000</td>\n",
       "      <td>643.371</td>\n",
       "      <td>139.127</td>\n",
       "      <td>18.4175</td>\n",
       "      <td>139.134</td>\n",
       "      <td>1.0</td>\n",
       "      <td>0.0</td>\n",
       "      <td>606.0</td>\n",
       "      <td>0.863988</td>\n",
       "      <td>0.122827</td>\n",
       "      <td>2015-04-14 20:24:00.782499</td>\n",
       "      <td>2015-04-14 20:24:19.199999</td>\n",
       "      <td>NaN</td>\n",
       "      <td>0.807220</td>\n",
       "    </tr>\n",
       "  </tbody>\n",
       "</table>\n",
       "</div>"
      ],
      "text/plain": [
       "                     dateTime  dos1rate  peak_std   Lm_OPQ   MLT_OPQ      lat  \\\n",
       "0  2014-12-20 04:06:32.500000   230.001  2.523019  7.22304   9.59286  70.8986   \n",
       "1  2015-03-30 08:30:29.699999   200.001  4.248539  6.71147  22.48060 -63.0605   \n",
       "2  2015-04-04 12:34:40.200000   640.003  2.826754  6.68557  10.60430 -75.4475   \n",
       "3  2015-04-04 14:11:35.100000   429.959  3.209049  7.60874  11.45280 -79.1931   \n",
       "4  2015-04-14 20:24:19.199999   399.962  3.328963  5.20606  13.12250 -70.4918   \n",
       "\n",
       "          lon      alt  Dist_In_Track  Lag_In_Track  Dist_Total  \\\n",
       "0   71.127800  671.856        467.194       62.1174     467.451   \n",
       "1 -167.832000  702.558        218.684       29.1986     218.716   \n",
       "2   -0.796446  667.406        192.072       25.5132     192.095   \n",
       "3  -10.744800  671.100        191.976       25.5093     191.999   \n",
       "4 -127.485000  643.371        139.127       18.4175     139.134   \n",
       "\n",
       "   Loss_Cone_Type  flag     AE   time_cc  space_cc  \\\n",
       "0             1.0   4.0   88.0  0.838697  0.169975   \n",
       "1             1.0   0.0   53.0  0.807756 -0.243157   \n",
       "2             0.0   0.0  490.0  0.891613 -0.088424   \n",
       "3             0.0   0.0   84.0  0.820881 -0.057296   \n",
       "4             1.0   0.0  606.0  0.863988  0.122827   \n",
       "\n",
       "               time_spatial_A              time_spatial_B  peak_width_A  \\\n",
       "0  2014-12-20 04:05:30.382600  2014-12-20 04:06:32.500000           NaN   \n",
       "1  2015-03-30 08:30:00.501399  2015-03-30 08:30:29.699999      0.200000   \n",
       "2  2015-04-04 12:34:40.200000  2015-04-04 12:35:05.713200      0.564084   \n",
       "3  2015-04-04 14:11:09.590700  2015-04-04 14:11:35.100000      0.657117   \n",
       "4  2015-04-14 20:24:00.782499  2015-04-14 20:24:19.199999           NaN   \n",
       "\n",
       "   peak_width_B  \n",
       "0      0.683457  \n",
       "1      0.585546  \n",
       "2      0.731709  \n",
       "3      0.524206  \n",
       "4      0.807220  "
      ]
     },
     "execution_count": 49,
     "metadata": {},
     "output_type": "execute_result"
    }
   ],
   "source": [
    "print(cat.shape); cat.head()"
   ]
  },
  {
   "cell_type": "markdown",
   "metadata": {},
   "source": [
    "As a reference, what is the number of valid spatial and temporal CCs?"
   ]
  },
  {
   "cell_type": "code",
   "execution_count": 50,
   "metadata": {},
   "outputs": [
    {
     "data": {
      "text/plain": [
       "662"
      ]
     },
     "execution_count": 50,
     "metadata": {},
     "output_type": "execute_result"
    }
   ],
   "source": [
    "cat[(~np.isnan(cat['time_cc'])) & (~np.isnan(cat['space_cc']))].shape[0]"
   ]
  },
  {
   "cell_type": "markdown",
   "metadata": {},
   "source": [
    "And now out of all of these detections, how many events had a temporal CC above CC_THRESH?"
   ]
  },
  {
   "cell_type": "code",
   "execution_count": 51,
   "metadata": {},
   "outputs": [
    {
     "data": {
      "text/plain": [
       "662"
      ]
     },
     "execution_count": 51,
     "metadata": {},
     "output_type": "execute_result"
    }
   ],
   "source": [
    "cat[cat['time_cc'] > CC_THRESH].shape[0]"
   ]
  },
  {
   "cell_type": "markdown",
   "metadata": {},
   "source": [
    "## Load sampling dataset\n",
    "The number of AC-6 seconds taken between separations a and b is given by the exposure, $E(a, b)$. The exposure is calculated by finding all 10 Hz data that were taking simulatenorusly by units A and B. Furthermore the dos1rate data cannot be negative i.e. not -1E31 error values, and the data flag = 0."
   ]
  },
  {
   "cell_type": "code",
   "execution_count": 52,
   "metadata": {},
   "outputs": [],
   "source": [
    "E = pd.read_csv(EXPOSURE_PATH, index_col=0)\n",
    "bin_width = E.index[1] - E.index[0]\n",
    "bins = E.loc[0:MAX_SEP].index #np.arange(0, MAX_SEP+1, 2) # Separation bins"
   ]
  },
  {
   "cell_type": "code",
   "execution_count": 53,
   "metadata": {},
   "outputs": [
    {
     "data": {
      "text/html": [
       "<div>\n",
       "<style scoped>\n",
       "    .dataframe tbody tr th:only-of-type {\n",
       "        vertical-align: middle;\n",
       "    }\n",
       "\n",
       "    .dataframe tbody tr th {\n",
       "        vertical-align: top;\n",
       "    }\n",
       "\n",
       "    .dataframe thead th {\n",
       "        text-align: right;\n",
       "    }\n",
       "</style>\n",
       "<table border=\"1\" class=\"dataframe\">\n",
       "  <thead>\n",
       "    <tr style=\"text-align: right;\">\n",
       "      <th></th>\n",
       "      <th>Seconds</th>\n",
       "    </tr>\n",
       "    <tr>\n",
       "      <th>Separation [km]</th>\n",
       "      <th></th>\n",
       "    </tr>\n",
       "  </thead>\n",
       "  <tbody>\n",
       "    <tr>\n",
       "      <th>0</th>\n",
       "      <td>17048.7</td>\n",
       "    </tr>\n",
       "    <tr>\n",
       "      <th>3</th>\n",
       "      <td>25189.8</td>\n",
       "    </tr>\n",
       "    <tr>\n",
       "      <th>6</th>\n",
       "      <td>22720.3</td>\n",
       "    </tr>\n",
       "    <tr>\n",
       "      <th>9</th>\n",
       "      <td>10830.2</td>\n",
       "    </tr>\n",
       "    <tr>\n",
       "      <th>12</th>\n",
       "      <td>3933.7</td>\n",
       "    </tr>\n",
       "  </tbody>\n",
       "</table>\n",
       "</div>"
      ],
      "text/plain": [
       "                 Seconds\n",
       "Separation [km]         \n",
       "0                17048.7\n",
       "3                25189.8\n",
       "6                22720.3\n",
       "9                10830.2\n",
       "12                3933.7"
      ]
     },
     "execution_count": 53,
     "metadata": {},
     "output_type": "execute_result"
    }
   ],
   "source": [
    "E.head()"
   ]
  },
  {
   "cell_type": "markdown",
   "metadata": {},
   "source": [
    "## Load error dataset"
   ]
  },
  {
   "cell_type": "code",
   "execution_count": 54,
   "metadata": {},
   "outputs": [
    {
     "data": {
      "text/html": [
       "<div>\n",
       "<style scoped>\n",
       "    .dataframe tbody tr th:only-of-type {\n",
       "        vertical-align: middle;\n",
       "    }\n",
       "\n",
       "    .dataframe tbody tr th {\n",
       "        vertical-align: top;\n",
       "    }\n",
       "\n",
       "    .dataframe thead th {\n",
       "        text-align: right;\n",
       "    }\n",
       "</style>\n",
       "<table border=\"1\" class=\"dataframe\">\n",
       "  <thead>\n",
       "    <tr style=\"text-align: right;\">\n",
       "      <th></th>\n",
       "      <th>std</th>\n",
       "    </tr>\n",
       "    <tr>\n",
       "      <th>d</th>\n",
       "      <th></th>\n",
       "    </tr>\n",
       "  </thead>\n",
       "  <tbody>\n",
       "    <tr>\n",
       "      <th>0.0</th>\n",
       "      <td>0.042591</td>\n",
       "    </tr>\n",
       "    <tr>\n",
       "      <th>5.0</th>\n",
       "      <td>0.030381</td>\n",
       "    </tr>\n",
       "    <tr>\n",
       "      <th>10.0</th>\n",
       "      <td>0.036516</td>\n",
       "    </tr>\n",
       "    <tr>\n",
       "      <th>15.0</th>\n",
       "      <td>0.040125</td>\n",
       "    </tr>\n",
       "    <tr>\n",
       "      <th>20.0</th>\n",
       "      <td>0.038249</td>\n",
       "    </tr>\n",
       "  </tbody>\n",
       "</table>\n",
       "</div>"
      ],
      "text/plain": [
       "           std\n",
       "d             \n",
       "0.0   0.042591\n",
       "5.0   0.030381\n",
       "10.0  0.036516\n",
       "15.0  0.040125\n",
       "20.0  0.038249"
      ]
     },
     "execution_count": 54,
     "metadata": {},
     "output_type": "execute_result"
    }
   ],
   "source": [
    "ERR = pd.read_csv(CDF_ERROR_PATH, index_col=0)\n",
    "ERR.head()"
   ]
  },
  {
   "cell_type": "markdown",
   "metadata": {},
   "source": [
    "## Find coincident events\n",
    "I define events that are coincident by the following criteria:\n",
    " - High temporal CC\n",
    " - Temporal CC > Spatial CC + CURTAIN_THRESH\n",
    " - Events inside the radition belt i.e. 4 < L < 8.\n",
    " - Not above US or the SAA\n",
    " - Optional: at least 2 standard deviations above the 10% baseline. This does not seem to influince the CDF much, but with this on the CDF is smoother."
   ]
  },
  {
   "cell_type": "markdown",
   "metadata": {},
   "source": [
    "First filter by high temporal CC"
   ]
  },
  {
   "cell_type": "code",
   "execution_count": 55,
   "metadata": {},
   "outputs": [],
   "source": [
    "coincidentEvents = cat[cat['time_cc'] >= CC_THRESH]"
   ]
  },
  {
   "cell_type": "markdown",
   "metadata": {},
   "source": [
    "Filter by L (only radiation belt)"
   ]
  },
  {
   "cell_type": "code",
   "execution_count": 56,
   "metadata": {},
   "outputs": [],
   "source": [
    "coincidentEvents = coincidentEvents[(np.abs(coincidentEvents['Lm_OPQ']) > 4) & \n",
    "                                    (np.abs(coincidentEvents['Lm_OPQ']) < 8)]"
   ]
  },
  {
   "cell_type": "markdown",
   "metadata": {},
   "source": [
    "Filter out curtains"
   ]
  },
  {
   "cell_type": "code",
   "execution_count": 57,
   "metadata": {},
   "outputs": [],
   "source": [
    "coincidentEvents = coincidentEvents[coincidentEvents['time_cc'] > coincidentEvents['space_cc']+CURTAIN_THRESH]"
   ]
  },
  {
   "cell_type": "markdown",
   "metadata": {},
   "source": [
    "Filter out detections made above the US to completely get rid of potential ground transmitter noise"
   ]
  },
  {
   "cell_type": "code",
   "execution_count": 58,
   "metadata": {},
   "outputs": [],
   "source": [
    "coincidentEvents = coincidentEvents[\n",
    "                ((coincidentEvents['lon'] > -60) | (coincidentEvents['lon'] < -140)) |\n",
    "                ((coincidentEvents['lat'] > 70) | (coincidentEvents['lat'] < 15))\n",
    "                                ]"
   ]
  },
  {
   "cell_type": "markdown",
   "metadata": {},
   "source": [
    "Optional: filter events which were at least 2 standard deviations above the 10% baseline"
   ]
  },
  {
   "cell_type": "code",
   "execution_count": 59,
   "metadata": {},
   "outputs": [],
   "source": [
    "if PEAK_STD_THRESH is not None:\n",
    "    coincidentEvents = coincidentEvents[coincidentEvents['peak_std'] > PEAK_STD_THRESH]"
   ]
  },
  {
   "cell_type": "markdown",
   "metadata": {},
   "source": [
    "Remove events with very different widths."
   ]
  },
  {
   "cell_type": "code",
   "execution_count": 60,
   "metadata": {},
   "outputs": [],
   "source": [
    "if WIDTH_THRESH is not None:\n",
    "    coincidentEvents = coincidentEvents[np.isclose(coincidentEvents['peak_width_A'], \n",
    "                                               coincidentEvents['peak_width_B'], rtol=WIDTH_THRESH)]"
   ]
  },
  {
   "cell_type": "markdown",
   "metadata": {},
   "source": [
    "### Sanity check: where were these detections made? \n",
    "This check makes sure that the US and SAA filters work correctly"
   ]
  },
  {
   "cell_type": "code",
   "execution_count": 61,
   "metadata": {},
   "outputs": [
    {
     "data": {
      "image/png": "[encoded data removed]",
      "text/plain": [
       "<Figure size 432x288 with 1 Axes>"
      ]
     },
     "metadata": {
      "needs_background": "light"
     },
     "output_type": "display_data"
    }
   ],
   "source": [
    "coincidentEvents.plot.scatter('lon', 'lat', c='k');"
   ]
  },
  {
   "cell_type": "markdown",
   "metadata": {},
   "source": [
    "# Calculate the CDF Attempt 1\n",
    "The microburst CDF at a separation $d$ is defined as the fraction of coincident microbursts observed at distance d to all the coincident microbursts in other words,\n",
    "\n",
    "$$\n",
    "CDF(d) = \\frac{coincident > d}{all \\ coincident}\n",
    "$$\n",
    "\n",
    "The intuitive way to think about this is with an example. When $d = 0$ km, the CDF = 1 i.e. 100% of microbursts were larger than $d$ and when $d = 25$ km the CDF = 0.4 i.e 40% of microbursts had a scale size larger than $d$.\n",
    "\n",
    "First Calculate the total number of coincident microbursts"
   ]
  },
  {
   "cell_type": "code",
   "execution_count": 62,
   "metadata": {},
   "outputs": [
    {
     "name": "stdout",
     "output_type": "stream",
     "text": [
      "662\n"
     ]
    }
   ],
   "source": [
    "totalEvents = len(coincidentEvents); print(totalEvents)"
   ]
  },
  {
   "cell_type": "markdown",
   "metadata": {},
   "source": [
    "Now iterate over each separation bin and calculate the CDF"
   ]
  },
  {
   "cell_type": "code",
   "execution_count": 63,
   "metadata": {},
   "outputs": [],
   "source": [
    "cdf = np.array([(coincidentEvents['Dist_Total'] >= di).sum()/totalEvents for di in bins])\n",
    "num = np.array([(coincidentEvents['Dist_Total'] >= di).sum() for di in bins])"
   ]
  },
  {
   "cell_type": "code",
   "execution_count": 64,
   "metadata": {},
   "outputs": [
    {
     "data": {
      "image/png": "[encoded data removed]",
      "text/plain": [
       "<Figure size 864x576 with 2 Axes>"
      ]
     },
     "metadata": {
      "needs_background": "light"
     },
     "output_type": "display_data"
    }
   ],
   "source": [
    "fig, ax = plt.subplots(2, sharex=True, figsize=(12, 8))\n",
    "ax[0].plot(bins, cdf, 'k'); ax[0].set_ylabel('CDF');\n",
    "ax[1].bar(E.index, E['Seconds']/10000, width=0.8*bin_width, color='k')\n",
    "ax[1].set_ylabel('sample time x 10000 [seconds]'); ax[1].set_xlabel('Total Separation [km]')\n",
    "ax[0].set_xlim(0, MAX_SEP);"
   ]
  },
  {
   "cell_type": "markdown",
   "metadata": {},
   "source": [
    "## Calculate the PDF\n",
    "by just taking the derivative of the CDF and constraining the area to 1."
   ]
  },
  {
   "cell_type": "code",
   "execution_count": 65,
   "metadata": {},
   "outputs": [],
   "source": [
    "pdf = np.convolve([-1, 1], cdf, mode='valid')/bin_width"
   ]
  },
  {
   "cell_type": "code",
   "execution_count": 66,
   "metadata": {},
   "outputs": [
    {
     "name": "stdout",
     "output_type": "stream",
     "text": [
      "Integral of the microburst PDF 0.9299999999999999\n"
     ]
    }
   ],
   "source": [
    "print('Integral of the microburst PDF', round(sum(pdf), 2)*(E.index[1]-E.index[0]))"
   ]
  },
  {
   "cell_type": "code",
   "execution_count": 67,
   "metadata": {},
   "outputs": [
    {
     "data": {
      "image/png": "[encoded data removed]",
      "text/plain": [
       "<Figure size 432x288 with 1 Axes>"
      ]
     },
     "metadata": {
      "needs_background": "light"
     },
     "output_type": "display_data"
    }
   ],
   "source": [
    "plt.plot(bins[:-1], pdf, 'k'); plt.xlabel('Total Separation [km]'); plt.ylabel('PDF');"
   ]
  },
  {
   "cell_type": "code",
   "execution_count": 68,
   "metadata": {},
   "outputs": [],
   "source": [
    "# if WRITE_CDF_TO_FILE:\n",
    "#     data = np.vstack((bins[:-1], cdf[:-1], pdf)).T\n",
    "#     pd.DataFrame(data=data).to_csv('microburst_cdf_pdf_v0.csv', \n",
    "#                                    header=['Dist_Total', 'CDF', 'PDF'], index=False)"
   ]
  },
  {
   "cell_type": "markdown",
   "metadata": {},
   "source": [
    "# Calculate the CDF Attempt 2\n",
    "Here I attempt to account for the number of seconds that AC-6 took data togeather to remove a bias that comes from certain separations having more data than other separations. To take the exposure time into account, I reformulate the CDF in the following functional form\n",
    "\n",
    "$$\n",
    "CDF(d) = \\frac{(coincident > d)/E(d, \\inf)}{(all \\ coincident)/E(0, \\inf)} = \\Big(\\frac{(coincident > d)}{(all \\ coincident)}\\Big) \\Big(\\frac{E(0, \\inf)}{E(d, \\inf)}\\Big)\n",
    "$$"
   ]
  },
  {
   "cell_type": "markdown",
   "metadata": {},
   "source": [
    "Visualize how the $E(0, \\inf)/E(d, \\inf)$ term looks like as a function of d"
   ]
  },
  {
   "cell_type": "code",
   "execution_count": 69,
   "metadata": {},
   "outputs": [],
   "source": [
    "weights = [E.loc[0:MAX_SEP].sum()/E.loc[d:MAX_SEP].sum() for d in range(0, MAX_SEP+1, bin_width)]"
   ]
  },
  {
   "cell_type": "code",
   "execution_count": 70,
   "metadata": {
    "scrolled": true
   },
   "outputs": [
    {
     "data": {
      "image/png": "[encoded data removed]",
      "text/plain": [
       "<Figure size 432x288 with 1 Axes>"
      ]
     },
     "metadata": {
      "needs_background": "light"
     },
     "output_type": "display_data"
    }
   ],
   "source": [
    "plt.plot(E.loc[0:MAX_SEP].index, weights);"
   ]
  },
  {
   "cell_type": "code",
   "execution_count": 71,
   "metadata": {},
   "outputs": [],
   "source": [
    "cdf2 = np.array([(coincidentEvents['Dist_Total'] >= di).sum()/totalEvents*wi \n",
    "                 for di, wi in zip(bins, weights)])\n",
    "cdf2 = cdf2.flatten()"
   ]
  },
  {
   "cell_type": "code",
   "execution_count": 72,
   "metadata": {},
   "outputs": [
    {
     "data": {
      "image/png": "[encoded data removed]",
      "text/plain": [
       "<Figure size 864x576 with 2 Axes>"
      ]
     },
     "metadata": {
      "needs_background": "light"
     },
     "output_type": "display_data"
    }
   ],
   "source": [
    "fig, ax = plt.subplots(2, sharex=True, figsize=(12, 8))\n",
    "ax[0].plot(bins, cdf, 'b', label='CDF')\n",
    "ax[0].plot(bins, cdf2, 'r', label='Normalized CDF')\n",
    "ax[0].legend()\n",
    "ax[1].bar(E.loc[0:MAX_SEP].index, E['Seconds'].loc[0:MAX_SEP]/10000, width=0.8*bin_width, color='k')\n",
    "ax[1].set_ylabel('sample time x 10000 [seconds]'); ax[1].set_xlabel('Total Separation [km]');\n"
   ]
  },
  {
   "cell_type": "code",
   "execution_count": 73,
   "metadata": {},
   "outputs": [
    {
     "data": {
      "text/plain": [
       "45"
      ]
     },
     "execution_count": 73,
     "metadata": {},
     "output_type": "execute_result"
    }
   ],
   "source": [
    "(coincidentEvents['Dist_Total'] >= 100).sum()"
   ]
  },
  {
   "cell_type": "code",
   "execution_count": 74,
   "metadata": {},
   "outputs": [
    {
     "data": {
      "image/png": "[encoded data removed]",
      "text/plain": [
       "<Figure size 432x288 with 1 Axes>"
      ]
     },
     "metadata": {
      "needs_background": "light"
     },
     "output_type": "display_data"
    }
   ],
   "source": [
    "pdf2 = np.convolve([-1, 1], cdf2, mode='valid')/bin_width\n",
    "plt.plot(bins[:-1], pdf, 'b', label='pdf')\n",
    "plt.plot(bins[:-1], pdf2, 'r', label='pdf2')\n",
    "plt.xlabel('Total Separation [km]'); plt.ylabel('PDF');\n",
    "plt.legend();"
   ]
  },
  {
   "cell_type": "code",
   "execution_count": 75,
   "metadata": {},
   "outputs": [],
   "source": [
    "if WRITE_CDF_TO_FILE:\n",
    "    data = np.vstack((bins[:-1], cdf2[:-1], pdf2)).T\n",
    "    df = pd.DataFrame(data=data, columns=['Dist_Total', 'CDF', 'PDF'])\n",
    "    df.to_csv('microburst_cdf_pdf_norm_v0.csv', index=False)"
   ]
  },
  {
   "cell_type": "code",
   "execution_count": 76,
   "metadata": {},
   "outputs": [
    {
     "data": {
      "image/png": "[encoded data removed]",
      "text/plain": [
       "<Figure size 576x576 with 3 Axes>"
      ]
     },
     "metadata": {
      "needs_background": "light"
     },
     "output_type": "display_data"
    }
   ],
   "source": [
    "delta_bin = (E.index[1]-E.index[0])\n",
    "fig, ax = plt.subplots(3, sharex=True, figsize=(8, 8))\n",
    "ax[0].plot(bins, cdf2, 'k'); ax[0].set_ylabel('Microburst CDF')\n",
    "ax[0].errorbar(bins, cdf2, c='k', yerr=0); ax[0].set_ylabel('Microburst CDF')\n",
    "ax[1].plot(bins[:-1], pdf2, 'k'); ax[1].set_ylabel('Microburst |PDF|')\n",
    "ax[2].bar(E.loc[0:MAX_SEP].index+0.5*delta_bin, E['Seconds'].loc[0:MAX_SEP]/10000, width=0.8*delta_bin, color='k')\n",
    "ax[2].set_ylabel('Sample time x 10000\\n[seconds]'); ax[2].set_xlabel('Total Separation [km]');\n",
    "plt.tight_layout()\n",
    "ax[0].set_xlim(0, MAX_SEP);\n",
    "#plt.savefig('ac6_microburst_cdf_pdf.png')"
   ]
  },
  {
   "cell_type": "markdown",
   "metadata": {},
   "source": [
    "# Calculate the CDF Attempt 3\n",
    "Here I attempt to normalize each CDF bin between $d$ and $d + dt$ by the number of samples that AC-6 took data togeather in that bin. This may give the same result as Attempt 2.\n",
    "\n",
    "$$\n",
    "CDF(d) = \\frac{N'(d)}{N'(0)}\n",
    "$$ where $N'(d)$ is the adjusted number of detections made in the cumulative bin above a separation $d$. The normalization is then \n",
    "$$\n",
    "N'(d) = \\sum_{bin > d} N(bin) \\ W_{bin}\n",
    "$$ where $N(bin)$ is the number of microbursts in that bin (i.e. between 0 and 5 km), and $W_{bin}$ is the weight factor for that bin which is defined as, $W_{bin} = S_{max}/S_{bin}$. where $S_{max}$ is the bin with the largest number of samples, and $S_{bin}$ is the number of samples in the bin that corresponds to the weights."
   ]
  },
  {
   "cell_type": "code",
   "execution_count": 81,
   "metadata": {},
   "outputs": [],
   "source": [
    "# Number of coincident events between Dist_Total di and df. \n",
    "N_i = lambda di, df: sum((coincidentEvents['Dist_Total'] >= di) & \n",
    "                         (coincidentEvents['Dist_Total'] < df))\n",
    "# Now apply the N_i function to all bin separations and make a numpy array.\n",
    "N = np.array([N_i(bi, bf) for bi, bf in zip(bins[:-1], bins[1:])]).flatten()\n",
    "# Calculate the weights normalized to the max number of samples (in the 30-35 km bin).\n",
    "W = E['Seconds'].loc[0:MAX_SEP-bin_width].max()/E['Seconds'].loc[0:MAX_SEP-bin_width]\n",
    "# The adjusted number of microbursts in each separation bin.\n",
    "E2 = E.loc[0:MAX_SEP].copy()\n",
    "E2.loc[:MAX_SEP-bin_width, 'N'] = N\n",
    "E2.loc[:MAX_SEP-bin_width, 'Weights'] = W\n",
    "E2.loc[:MAX_SEP-bin_width, 'N_prime'] = N*W\n",
    "E2.loc[:MAX_SEP-bin_width, 'cdf_error'] = ERR.loc[0:MAX_SEP-bin_width, 'std']*W"
   ]
  },
  {
   "cell_type": "code",
   "execution_count": 82,
   "metadata": {},
   "outputs": [
    {
     "data": {
      "text/html": [
       "<div>\n",
       "<style scoped>\n",
       "    .dataframe tbody tr th:only-of-type {\n",
       "        vertical-align: middle;\n",
       "    }\n",
       "\n",
       "    .dataframe tbody tr th {\n",
       "        vertical-align: top;\n",
       "    }\n",
       "\n",
       "    .dataframe thead th {\n",
       "        text-align: right;\n",
       "    }\n",
       "</style>\n",
       "<table border=\"1\" class=\"dataframe\">\n",
       "  <thead>\n",
       "    <tr style=\"text-align: right;\">\n",
       "      <th></th>\n",
       "      <th>Seconds</th>\n",
       "      <th>N</th>\n",
       "      <th>Weights</th>\n",
       "      <th>N_prime</th>\n",
       "      <th>cdf_error</th>\n",
       "    </tr>\n",
       "    <tr>\n",
       "      <th>Separation [km]</th>\n",
       "      <th></th>\n",
       "      <th></th>\n",
       "      <th></th>\n",
       "      <th></th>\n",
       "      <th></th>\n",
       "    </tr>\n",
       "  </thead>\n",
       "  <tbody>\n",
       "    <tr>\n",
       "      <th>0</th>\n",
       "      <td>17048.7</td>\n",
       "      <td>27.0</td>\n",
       "      <td>3.148275</td>\n",
       "      <td>85.003431</td>\n",
       "      <td>0.134088</td>\n",
       "    </tr>\n",
       "    <tr>\n",
       "      <th>3</th>\n",
       "      <td>25189.8</td>\n",
       "      <td>222.0</td>\n",
       "      <td>2.130783</td>\n",
       "      <td>473.033847</td>\n",
       "      <td>NaN</td>\n",
       "    </tr>\n",
       "    <tr>\n",
       "      <th>6</th>\n",
       "      <td>22720.3</td>\n",
       "      <td>101.0</td>\n",
       "      <td>2.362381</td>\n",
       "      <td>238.600459</td>\n",
       "      <td>NaN</td>\n",
       "    </tr>\n",
       "    <tr>\n",
       "      <th>9</th>\n",
       "      <td>10830.2</td>\n",
       "      <td>45.0</td>\n",
       "      <td>4.955956</td>\n",
       "      <td>223.018042</td>\n",
       "      <td>NaN</td>\n",
       "    </tr>\n",
       "    <tr>\n",
       "      <th>12</th>\n",
       "      <td>3933.7</td>\n",
       "      <td>2.0</td>\n",
       "      <td>13.644660</td>\n",
       "      <td>27.289320</td>\n",
       "      <td>NaN</td>\n",
       "    </tr>\n",
       "  </tbody>\n",
       "</table>\n",
       "</div>"
      ],
      "text/plain": [
       "                 Seconds      N    Weights     N_prime  cdf_error\n",
       "Separation [km]                                                  \n",
       "0                17048.7   27.0   3.148275   85.003431   0.134088\n",
       "3                25189.8  222.0   2.130783  473.033847        NaN\n",
       "6                22720.3  101.0   2.362381  238.600459        NaN\n",
       "9                10830.2   45.0   4.955956  223.018042        NaN\n",
       "12                3933.7    2.0  13.644660   27.289320        NaN"
      ]
     },
     "execution_count": 82,
     "metadata": {},
     "output_type": "execute_result"
    }
   ],
   "source": [
    "E2.head()"
   ]
  },
  {
   "cell_type": "markdown",
   "metadata": {},
   "source": [
    "Last two lines above are to organize this nicely in a data frame. the .copy() is necessary since it is unclear if pandas will interpret E2 as a copy or a \"view\", http://pandas.pydata.org/pandas-docs/stable/user_guide/indexing.html#indexing-view-versus-copy "
   ]
  },
  {
   "cell_type": "code",
   "execution_count": 83,
   "metadata": {},
   "outputs": [],
   "source": [
    "cdf3 = np.array([np.nansum(E2.loc[d:MAX_SEP-2*bin_width, 'N_prime'])/np.nansum(E2.loc[0:MAX_SEP-2*bin_width, 'N_prime']) \n",
    "                 for d in bins]).flatten()\n",
    "pdf3 = np.convolve([-1, 1], cdf3, mode='valid')/bin_width"
   ]
  },
  {
   "cell_type": "markdown",
   "metadata": {},
   "source": [
    "Calculate pdf errors"
   ]
  },
  {
   "cell_type": "code",
   "execution_count": 96,
   "metadata": {},
   "outputs": [],
   "source": [
    "A = np.array(E2['cdf_error'].iloc[:-1].values**2)*cdf3[:-1]**2\n",
    "B = np.array(E2['cdf_error'].iloc[1:].values**2)*cdf3[1:]**2\n",
    "pdf3_err = np.sqrt((A + B)/bin_width).flatten()"
   ]
  },
  {
   "cell_type": "code",
   "execution_count": 97,
   "metadata": {},
   "outputs": [
    {
     "data": {
      "text/plain": [
       "array([nan, nan, nan, nan, nan, nan, nan, nan, nan, nan, nan, nan, nan,\n",
       "       nan, nan, nan, nan, nan, nan, nan, nan, nan, nan, nan, nan, nan,\n",
       "       nan, nan, nan, nan, nan, nan, nan])"
      ]
     },
     "execution_count": 97,
     "metadata": {},
     "output_type": "execute_result"
    }
   ],
   "source": [
    "pdf3_err"
   ]
  },
  {
   "cell_type": "code",
   "execution_count": 98,
   "metadata": {},
   "outputs": [
    {
     "data": {
      "image/png": "[encoded data removed]",
      "text/plain": [
       "<Figure size 864x576 with 3 Axes>"
      ]
     },
     "metadata": {
      "needs_background": "light"
     },
     "output_type": "display_data"
    }
   ],
   "source": [
    "fig, ax = plt.subplots(3, sharex=True, figsize=(12, 8))\n",
    "ax[0].plot(bins, cdf, 'b', label='Unnormalized CDF')\n",
    "#ax[0].plot(bins, cdf2, 'r', label='Normalized CDF v2')\n",
    "ax[0].plot(bins, cdf3, 'g', label='Normalized CDF v3')\n",
    "#ax[0].errorbar(bins, cdf3, yerr=E2.cdf_error, c='g', label='Normalized CDF v3')\n",
    "ax[0].set_ylim(bottom=0)\n",
    "ax[0].legend()\n",
    "ax[0].set_ylabel('CDF')\n",
    "pdf_bins = np.convolve([0.5, 0.5], E2.index, mode='valid')\n",
    "ax[1].plot(pdf_bins, pdf, 'b'); \n",
    "#ax[1].plot(pdf_bins, pdf2, 'r');\n",
    "ax[1].plot(pdf_bins, pdf3, 'g');\n",
    "#ax[1].errorbar(pdf_bins, pdf3, yerr=pdf3_err, c='g');\n",
    "ax[1].set_ylabel('Microburst |PDF|')\n",
    "ax[2].bar(E.loc[0:205].index, E['Seconds'].loc[0:205]/10000, width=0.8*bin_width, color='k')\n",
    "ax[2].set_ylabel('sample time x 10000 [seconds]'); ax[1].set_xlabel('Total Separation [km]');\n",
    "ax[0].set_xlim(0, MAX_SEP)\n",
    "ax[1].set_ylim(bottom=0);\n",
    "#plt.savefig('ac6_microburst_cdf_pdf_v3_brady.png')"
   ]
  },
  {
   "cell_type": "code",
   "execution_count": 99,
   "metadata": {},
   "outputs": [
    {
     "name": "stdout",
     "output_type": "stream",
     "text": [
      "Integral of the microburst PDF 0.978896708562713\n"
     ]
    }
   ],
   "source": [
    "print('Integral of the microburst PDF', scipy.integrate.trapz(pdf3, dx=bin_width))"
   ]
  },
  {
   "cell_type": "markdown",
   "metadata": {},
   "source": [
    "# Microburst Width Statistics\n",
    "Investigate if there is a difference in widths between microbursts observed at the small and large separations."
   ]
  },
  {
   "cell_type": "code",
   "execution_count": null,
   "metadata": {},
   "outputs": [],
   "source": [
    "similar_width_events = coincidentEvents[np.isclose(\n",
    "                            coincidentEvents['peak_width_A'], \n",
    "                            coincidentEvents['peak_width_B'], rtol=2)]\n",
    "similar_width_events_small = similar_width_events[similar_width_events['Dist_Total'] < 10]\n",
    "similar_width_events_large = similar_width_events[similar_width_events['Dist_Total'] > 50]\n",
    "\n",
    "plt.hist(similar_width_events_small['peak_width_A'], bins=np.arange(0, 1, 0.1), normed=True, alpha=0.5);\n",
    "plt.hist(similar_width_events_large['peak_width_A'], bins=np.arange(0, 1, 0.1), normed=True, alpha=0.5);"
   ]
  },
  {
   "cell_type": "code",
   "execution_count": null,
   "metadata": {},
   "outputs": [],
   "source": [
    "similar_width_events_small['peak_width_A'].mean()"
   ]
  }
 ],
 "metadata": {
  "kernelspec": {
   "display_name": "Python 3",
   "language": "python",
   "name": "python3"
  },
  "language_info": {
   "codemirror_mode": {
    "name": "ipython",
    "version": 3
   },
   "file_extension": ".py",
   "mimetype": "text/x-python",
   "name": "python",
   "nbconvert_exporter": "python",
   "pygments_lexer": "ipython3",
   "version": "3.6.7"
  },
  "toc": {
   "base_numbering": 1,
   "nav_menu": {},
   "number_sections": true,
   "sideBar": true,
   "skip_h1_title": false,
   "title_cell": "Table of Contents",
   "title_sidebar": "Contents",
   "toc_cell": false,
   "toc_position": {},
   "toc_section_display": true,
   "toc_window_display": false
  }
 },
 "nbformat": 4,
 "nbformat_minor": 2
}
