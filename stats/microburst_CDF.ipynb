{
 "cells": [
  {
   "cell_type": "markdown",
   "metadata": {},
   "source": [
    "# Calculate the microburst CDF and PDF\n",
    "Author: Mykahylo Shumko"
   ]
  },
  {
   "cell_type": "code",
   "execution_count": 1,
   "metadata": {},
   "outputs": [],
   "source": [
    "import pandas as pd\n",
    "import numpy as np\n",
    "import matplotlib.pyplot as plt"
   ]
  },
  {
   "cell_type": "code",
   "execution_count": 2,
   "metadata": {},
   "outputs": [],
   "source": [
    "WRITE_CDF_TO_FILE = True\n",
    "\n",
    "CATALOG_VERSION = 6\n",
    "CAT_PATH = ('/home/mike/research/ac6_microburst_scale_sizes/data/'\n",
    "            'coincident_microbursts_catalogues/'\n",
    "            'AC6_coincident_microbursts_sorted_v{}.txt'.format(CATALOG_VERSION))"
   ]
  },
  {
   "cell_type": "code",
   "execution_count": 3,
   "metadata": {},
   "outputs": [],
   "source": [
    "bins = np.arange(0, 200, 5)       # Separation bins\n",
    "CC_THRESH = 0.8                   # Temporal CC threshold\n",
    "CURTAIN_THRESH = 0                # Amount by which the temporal CC must be greater than the spatial CC.\n",
    "PEAK_STD_THRESH = None            # The number of standard deviations that a detection must be above a 10% \n",
    "                                  # Paul baseline.\n",
    "WIDTH_THRESH = None             # Width threshold in units of %/100."
   ]
  },
  {
   "cell_type": "markdown",
   "metadata": {},
   "source": [
    "## Load catalog"
   ]
  },
  {
   "cell_type": "code",
   "execution_count": 4,
   "metadata": {},
   "outputs": [],
   "source": [
    "cat = pd.read_csv(CAT_PATH)"
   ]
  },
  {
   "cell_type": "code",
   "execution_count": 5,
   "metadata": {},
   "outputs": [
    {
     "name": "stdout",
     "output_type": "stream",
     "text": [
      "(615, 20)\n"
     ]
    },
    {
     "data": {
      "text/html": [
       "<div>\n",
       "<style scoped>\n",
       "    .dataframe tbody tr th:only-of-type {\n",
       "        vertical-align: middle;\n",
       "    }\n",
       "\n",
       "    .dataframe tbody tr th {\n",
       "        vertical-align: top;\n",
       "    }\n",
       "\n",
       "    .dataframe thead th {\n",
       "        text-align: right;\n",
       "    }\n",
       "</style>\n",
       "<table border=\"1\" class=\"dataframe\">\n",
       "  <thead>\n",
       "    <tr style=\"text-align: right;\">\n",
       "      <th></th>\n",
       "      <th>dateTime</th>\n",
       "      <th>dos1rate</th>\n",
       "      <th>peak_std</th>\n",
       "      <th>Lm_OPQ</th>\n",
       "      <th>MLT_OPQ</th>\n",
       "      <th>lat</th>\n",
       "      <th>lon</th>\n",
       "      <th>alt</th>\n",
       "      <th>Dist_In_Track</th>\n",
       "      <th>Lag_In_Track</th>\n",
       "      <th>Dist_Total</th>\n",
       "      <th>Loss_Cone_Type</th>\n",
       "      <th>flag</th>\n",
       "      <th>AE</th>\n",
       "      <th>time_cc</th>\n",
       "      <th>space_cc</th>\n",
       "      <th>time_spatial_A</th>\n",
       "      <th>time_spatial_B</th>\n",
       "      <th>peak_width_A</th>\n",
       "      <th>peak_width_B</th>\n",
       "    </tr>\n",
       "  </thead>\n",
       "  <tbody>\n",
       "    <tr>\n",
       "      <th>0</th>\n",
       "      <td>2015-04-16 04:50:47.600000</td>\n",
       "      <td>560.003</td>\n",
       "      <td>5.242196</td>\n",
       "      <td>5.36905</td>\n",
       "      <td>21.77790</td>\n",
       "      <td>-71.3883</td>\n",
       "      <td>-121.5450</td>\n",
       "      <td>660.860</td>\n",
       "      <td>131.796</td>\n",
       "      <td>17.4919</td>\n",
       "      <td>131.804</td>\n",
       "      <td>1.0</td>\n",
       "      <td>0.0</td>\n",
       "      <td>583.0</td>\n",
       "      <td>0.815984</td>\n",
       "      <td>0.061890</td>\n",
       "      <td>2015-04-16 04:50:47.600000</td>\n",
       "      <td>2015-04-16 04:51:05.091900</td>\n",
       "      <td>0.175007</td>\n",
       "      <td>0.197500</td>\n",
       "    </tr>\n",
       "    <tr>\n",
       "      <th>1</th>\n",
       "      <td>2015-04-16 05:37:42.100000</td>\n",
       "      <td>569.946</td>\n",
       "      <td>6.014335</td>\n",
       "      <td>5.03621</td>\n",
       "      <td>10.06720</td>\n",
       "      <td>65.7251</td>\n",
       "      <td>53.1518</td>\n",
       "      <td>674.671</td>\n",
       "      <td>132.305</td>\n",
       "      <td>17.5961</td>\n",
       "      <td>132.313</td>\n",
       "      <td>1.0</td>\n",
       "      <td>0.0</td>\n",
       "      <td>552.0</td>\n",
       "      <td>0.903722</td>\n",
       "      <td>0.470579</td>\n",
       "      <td>2015-04-16 05:37:42.100000</td>\n",
       "      <td>2015-04-16 05:37:59.696100</td>\n",
       "      <td>0.295886</td>\n",
       "      <td>0.260770</td>\n",
       "    </tr>\n",
       "    <tr>\n",
       "      <th>2</th>\n",
       "      <td>2015-04-16 07:15:41.600000</td>\n",
       "      <td>730.004</td>\n",
       "      <td>4.564616</td>\n",
       "      <td>5.12112</td>\n",
       "      <td>10.36750</td>\n",
       "      <td>65.3316</td>\n",
       "      <td>28.9745</td>\n",
       "      <td>674.543</td>\n",
       "      <td>131.850</td>\n",
       "      <td>17.5372</td>\n",
       "      <td>131.858</td>\n",
       "      <td>1.0</td>\n",
       "      <td>0.0</td>\n",
       "      <td>618.0</td>\n",
       "      <td>0.810201</td>\n",
       "      <td>0.063204</td>\n",
       "      <td>2015-04-16 07:15:24.062800</td>\n",
       "      <td>2015-04-16 07:15:41.600000</td>\n",
       "      <td>0.305028</td>\n",
       "      <td>0.210672</td>\n",
       "    </tr>\n",
       "    <tr>\n",
       "      <th>3</th>\n",
       "      <td>2015-04-16 19:29:05.400000</td>\n",
       "      <td>2590.010</td>\n",
       "      <td>6.070891</td>\n",
       "      <td>5.41519</td>\n",
       "      <td>19.99470</td>\n",
       "      <td>-64.5365</td>\n",
       "      <td>26.2792</td>\n",
       "      <td>662.745</td>\n",
       "      <td>128.400</td>\n",
       "      <td>17.0482</td>\n",
       "      <td>128.409</td>\n",
       "      <td>0.0</td>\n",
       "      <td>4.0</td>\n",
       "      <td>1023.0</td>\n",
       "      <td>0.823308</td>\n",
       "      <td>0.494986</td>\n",
       "      <td>2015-04-16 19:29:05.400000</td>\n",
       "      <td>2015-04-16 19:29:22.448200</td>\n",
       "      <td>0.310256</td>\n",
       "      <td>0.317107</td>\n",
       "    </tr>\n",
       "    <tr>\n",
       "      <th>4</th>\n",
       "      <td>2015-04-16 20:17:02.100000</td>\n",
       "      <td>600.003</td>\n",
       "      <td>8.760751</td>\n",
       "      <td>4.19432</td>\n",
       "      <td>8.38166</td>\n",
       "      <td>61.3247</td>\n",
       "      <td>-163.4740</td>\n",
       "      <td>672.074</td>\n",
       "      <td>129.070</td>\n",
       "      <td>17.1628</td>\n",
       "      <td>129.077</td>\n",
       "      <td>1.0</td>\n",
       "      <td>0.0</td>\n",
       "      <td>1249.0</td>\n",
       "      <td>0.812830</td>\n",
       "      <td>-0.521795</td>\n",
       "      <td>2015-04-16 20:16:44.937200</td>\n",
       "      <td>2015-04-16 20:17:02.100000</td>\n",
       "      <td>0.316239</td>\n",
       "      <td>0.290001</td>\n",
       "    </tr>\n",
       "  </tbody>\n",
       "</table>\n",
       "</div>"
      ],
      "text/plain": [
       "                     dateTime  dos1rate  peak_std   Lm_OPQ   MLT_OPQ      lat  \\\n",
       "0  2015-04-16 04:50:47.600000   560.003  5.242196  5.36905  21.77790 -71.3883   \n",
       "1  2015-04-16 05:37:42.100000   569.946  6.014335  5.03621  10.06720  65.7251   \n",
       "2  2015-04-16 07:15:41.600000   730.004  4.564616  5.12112  10.36750  65.3316   \n",
       "3  2015-04-16 19:29:05.400000  2590.010  6.070891  5.41519  19.99470 -64.5365   \n",
       "4  2015-04-16 20:17:02.100000   600.003  8.760751  4.19432   8.38166  61.3247   \n",
       "\n",
       "        lon      alt  Dist_In_Track  Lag_In_Track  Dist_Total  Loss_Cone_Type  \\\n",
       "0 -121.5450  660.860        131.796       17.4919     131.804             1.0   \n",
       "1   53.1518  674.671        132.305       17.5961     132.313             1.0   \n",
       "2   28.9745  674.543        131.850       17.5372     131.858             1.0   \n",
       "3   26.2792  662.745        128.400       17.0482     128.409             0.0   \n",
       "4 -163.4740  672.074        129.070       17.1628     129.077             1.0   \n",
       "\n",
       "   flag      AE   time_cc  space_cc              time_spatial_A  \\\n",
       "0   0.0   583.0  0.815984  0.061890  2015-04-16 04:50:47.600000   \n",
       "1   0.0   552.0  0.903722  0.470579  2015-04-16 05:37:42.100000   \n",
       "2   0.0   618.0  0.810201  0.063204  2015-04-16 07:15:24.062800   \n",
       "3   4.0  1023.0  0.823308  0.494986  2015-04-16 19:29:05.400000   \n",
       "4   0.0  1249.0  0.812830 -0.521795  2015-04-16 20:16:44.937200   \n",
       "\n",
       "               time_spatial_B  peak_width_A  peak_width_B  \n",
       "0  2015-04-16 04:51:05.091900      0.175007      0.197500  \n",
       "1  2015-04-16 05:37:59.696100      0.295886      0.260770  \n",
       "2  2015-04-16 07:15:41.600000      0.305028      0.210672  \n",
       "3  2015-04-16 19:29:22.448200      0.310256      0.317107  \n",
       "4  2015-04-16 20:17:02.100000      0.316239      0.290001  "
      ]
     },
     "execution_count": 5,
     "metadata": {},
     "output_type": "execute_result"
    }
   ],
   "source": [
    "print(cat.shape); cat.head()"
   ]
  },
  {
   "cell_type": "markdown",
   "metadata": {},
   "source": [
    "As a reference, what is the number of valid spatial and temporal CCs?"
   ]
  },
  {
   "cell_type": "code",
   "execution_count": 6,
   "metadata": {},
   "outputs": [
    {
     "data": {
      "text/plain": [
       "615"
      ]
     },
     "execution_count": 6,
     "metadata": {},
     "output_type": "execute_result"
    }
   ],
   "source": [
    "cat[(~np.isnan(cat['time_cc'])) & (~np.isnan(cat['space_cc']))].shape[0]"
   ]
  },
  {
   "cell_type": "markdown",
   "metadata": {},
   "source": [
    "And now out of all of these detections, how many events had a temporal CC above CC_THRESH?"
   ]
  },
  {
   "cell_type": "code",
   "execution_count": 7,
   "metadata": {},
   "outputs": [
    {
     "data": {
      "text/plain": [
       "615"
      ]
     },
     "execution_count": 7,
     "metadata": {},
     "output_type": "execute_result"
    }
   ],
   "source": [
    "cat[cat['time_cc'] > CC_THRESH].shape[0]"
   ]
  },
  {
   "cell_type": "markdown",
   "metadata": {},
   "source": [
    "## Load sampling dataset\n",
    "The number of AC-6 seconds taken between separations a and b is given by the exposure, $E(a, b)$. The exposure is calculated by finding all 10 Hz data that were taking simulatenorusly by units A and B. Furthermore the dos1rate data cannot be negative i.e. not -1E31 error values, and the data flag = 0."
   ]
  },
  {
   "cell_type": "code",
   "execution_count": 8,
   "metadata": {},
   "outputs": [],
   "source": [
    "EXPOSURE_PATH = '/home/mike/research/ac6_microburst_scale_sizes/data/norm/ac6_norm_all_cdf.csv'\n",
    "E = pd.read_csv(EXPOSURE_PATH, index_col=0)"
   ]
  },
  {
   "cell_type": "code",
   "execution_count": 9,
   "metadata": {},
   "outputs": [
    {
     "data": {
      "text/html": [
       "<div>\n",
       "<style scoped>\n",
       "    .dataframe tbody tr th:only-of-type {\n",
       "        vertical-align: middle;\n",
       "    }\n",
       "\n",
       "    .dataframe tbody tr th {\n",
       "        vertical-align: top;\n",
       "    }\n",
       "\n",
       "    .dataframe thead th {\n",
       "        text-align: right;\n",
       "    }\n",
       "</style>\n",
       "<table border=\"1\" class=\"dataframe\">\n",
       "  <thead>\n",
       "    <tr style=\"text-align: right;\">\n",
       "      <th></th>\n",
       "      <th>Seconds</th>\n",
       "    </tr>\n",
       "    <tr>\n",
       "      <th>Separation [km]</th>\n",
       "      <th></th>\n",
       "    </tr>\n",
       "  </thead>\n",
       "  <tbody>\n",
       "    <tr>\n",
       "      <th>0</th>\n",
       "      <td>37141.3</td>\n",
       "    </tr>\n",
       "    <tr>\n",
       "      <th>5</th>\n",
       "      <td>33107.2</td>\n",
       "    </tr>\n",
       "    <tr>\n",
       "      <th>10</th>\n",
       "      <td>9474.2</td>\n",
       "    </tr>\n",
       "    <tr>\n",
       "      <th>15</th>\n",
       "      <td>14304.5</td>\n",
       "    </tr>\n",
       "    <tr>\n",
       "      <th>20</th>\n",
       "      <td>9199.1</td>\n",
       "    </tr>\n",
       "  </tbody>\n",
       "</table>\n",
       "</div>"
      ],
      "text/plain": [
       "                 Seconds\n",
       "Separation [km]         \n",
       "0                37141.3\n",
       "5                33107.2\n",
       "10                9474.2\n",
       "15               14304.5\n",
       "20                9199.1"
      ]
     },
     "execution_count": 9,
     "metadata": {},
     "output_type": "execute_result"
    }
   ],
   "source": [
    "E.head()"
   ]
  },
  {
   "cell_type": "markdown",
   "metadata": {},
   "source": [
    "## Find coincident events\n",
    "I define events that are coincident by the following criteria:\n",
    " - High temporal CC\n",
    " - Temporal CC > Spatial CC + CURTAIN_THRESH\n",
    " - Events inside the radition belt i.e. 4 < L < 8.\n",
    " - Not above US or the SAA\n",
    " - Optional: at least 2 standard deviations above the 10% baseline. This does not seem to influince the CDF much, but with this on the CDF is smoother."
   ]
  },
  {
   "cell_type": "markdown",
   "metadata": {},
   "source": [
    "First filter by high temporal CC"
   ]
  },
  {
   "cell_type": "code",
   "execution_count": 10,
   "metadata": {},
   "outputs": [],
   "source": [
    "coincidentEvents = cat[cat['time_cc'] >= CC_THRESH]"
   ]
  },
  {
   "cell_type": "markdown",
   "metadata": {},
   "source": [
    "Filter by L (only radiation belt)"
   ]
  },
  {
   "cell_type": "code",
   "execution_count": 11,
   "metadata": {},
   "outputs": [],
   "source": [
    "coincidentEvents = coincidentEvents[(np.abs(coincidentEvents['Lm_OPQ']) > 4) & \n",
    "                                    (np.abs(coincidentEvents['Lm_OPQ']) < 8)]"
   ]
  },
  {
   "cell_type": "markdown",
   "metadata": {},
   "source": [
    "Filter out curtains"
   ]
  },
  {
   "cell_type": "code",
   "execution_count": 12,
   "metadata": {},
   "outputs": [],
   "source": [
    "coincidentEvents = coincidentEvents[coincidentEvents['time_cc'] > coincidentEvents['space_cc']+CURTAIN_THRESH]"
   ]
  },
  {
   "cell_type": "markdown",
   "metadata": {},
   "source": [
    "Filter out detections made above the US to completely get rid of potential ground transmitter noise"
   ]
  },
  {
   "cell_type": "code",
   "execution_count": 13,
   "metadata": {},
   "outputs": [],
   "source": [
    "coincidentEvents = coincidentEvents[\n",
    "                ((coincidentEvents['lon'] > -60) | (coincidentEvents['lon'] < -140)) |\n",
    "                ((coincidentEvents['lat'] > 70) | (coincidentEvents['lat'] < 15))\n",
    "                                ]"
   ]
  },
  {
   "cell_type": "markdown",
   "metadata": {},
   "source": [
    "Filter out detections made above the SAA to get rid of any potential for noisy detections due to saturation"
   ]
  },
  {
   "cell_type": "code",
   "execution_count": 14,
   "metadata": {},
   "outputs": [],
   "source": [
    "# coincidentEvents = coincidentEvents[\n",
    "#                 ((coincidentEvents['lon'] > 30)  | (coincidentEvents['lon'] < -116)) |\n",
    "#                 ((coincidentEvents['lat'] < -90) | (coincidentEvents['lat'] > 0))\n",
    "#                                 ]"
   ]
  },
  {
   "cell_type": "markdown",
   "metadata": {},
   "source": [
    "Optional: filter events which were at least 2 standard deviations above the 10% baseline"
   ]
  },
  {
   "cell_type": "code",
   "execution_count": 15,
   "metadata": {},
   "outputs": [],
   "source": [
    "if PEAK_STD_THRESH is not None:\n",
    "    coincidentEvents = coincidentEvents[coincidentEvents['peak_std'] > PEAK_STD_THRESH]"
   ]
  },
  {
   "cell_type": "markdown",
   "metadata": {},
   "source": [
    "Remove events with very different widths."
   ]
  },
  {
   "cell_type": "code",
   "execution_count": 16,
   "metadata": {},
   "outputs": [],
   "source": [
    "if WIDTH_THRESH is not None:\n",
    "    coincidentEvents = coincidentEvents[np.isclose(coincidentEvents['peak_width_A'], \n",
    "                                               coincidentEvents['peak_width_B'], rtol=WIDTH_THRESH)]"
   ]
  },
  {
   "cell_type": "markdown",
   "metadata": {},
   "source": [
    "### Sanity check: where were these detections made? \n",
    "This check makes sure that the US and SAA filters work correctly"
   ]
  },
  {
   "cell_type": "code",
   "execution_count": 17,
   "metadata": {},
   "outputs": [
    {
     "data": {
      "image/png": "[encoded data removed]",
      "text/plain": [
       "<Figure size 432x288 with 1 Axes>"
      ]
     },
     "metadata": {
      "needs_background": "light"
     },
     "output_type": "display_data"
    }
   ],
   "source": [
    "coincidentEvents.plot.scatter('lon', 'lat', c='k');"
   ]
  },
  {
   "cell_type": "markdown",
   "metadata": {},
   "source": [
    "# Calculate the CDF Attempt 1\n",
    "The microburst CDF at a separation $d$ is defined as the fraction of coincident microbursts observed at distance d to all the coincident microbursts in other words,\n",
    "\n",
    "$$\n",
    "CDF(d) = \\frac{coincident > d}{all \\ coincident}\n",
    "$$\n",
    "\n",
    "The intuitive way to think about this is with an example. When $d = 0$ km, the CDF = 1 i.e. 100% of microbursts were larger than $d$ and when $d = 25$ km the CDF = 0.4 i.e 40% of microbursts had a scale size larger than $d$.\n",
    "\n",
    "First Calculate the total number of coincident microbursts"
   ]
  },
  {
   "cell_type": "code",
   "execution_count": 18,
   "metadata": {},
   "outputs": [
    {
     "name": "stdout",
     "output_type": "stream",
     "text": [
      "615\n"
     ]
    }
   ],
   "source": [
    "totalEvents = len(coincidentEvents); print(totalEvents)"
   ]
  },
  {
   "cell_type": "markdown",
   "metadata": {},
   "source": [
    "Now iterate over each separation bin and calculate the CDF"
   ]
  },
  {
   "cell_type": "code",
   "execution_count": 19,
   "metadata": {},
   "outputs": [],
   "source": [
    "cdf = np.array([(coincidentEvents['Dist_Total'] >= di).sum()/totalEvents for di in bins])\n",
    "num = np.array([(coincidentEvents['Dist_Total'] >= di).sum() for di in bins])"
   ]
  },
  {
   "cell_type": "code",
   "execution_count": 20,
   "metadata": {},
   "outputs": [
    {
     "data": {
      "image/png": "[encoded data removed]",
      "text/plain": [
       "<Figure size 864x576 with 2 Axes>"
      ]
     },
     "metadata": {
      "needs_background": "light"
     },
     "output_type": "display_data"
    }
   ],
   "source": [
    "fig, ax = plt.subplots(2, sharex=True, figsize=(12, 8))\n",
    "ax[0].plot(bins, cdf, 'k'); ax[0].set_ylabel('CDF');\n",
    "ax[1].bar(E.loc[0:200].index, E['Seconds'].loc[0:200]/10000, width=0.8*E.index[1]-E.index[0], color='k')\n",
    "ax[1].set_ylabel('sample time x 10000 [seconds]'); ax[1].set_xlabel('Total Separation [km]');"
   ]
  },
  {
   "cell_type": "markdown",
   "metadata": {},
   "source": [
    "## Calculate the PDF\n",
    "by just taking the derivative of the CDF and constraining the area to 1."
   ]
  },
  {
   "cell_type": "code",
   "execution_count": 21,
   "metadata": {},
   "outputs": [],
   "source": [
    "pdf = np.convolve([-1, 1], cdf, mode='valid')/(E.index[1]-E.index[0])"
   ]
  },
  {
   "cell_type": "code",
   "execution_count": 22,
   "metadata": {},
   "outputs": [
    {
     "name": "stdout",
     "output_type": "stream",
     "text": [
      "Integral of the microburst PDF 1.0\n"
     ]
    }
   ],
   "source": [
    "print('Integral of the microburst PDF', round(sum(pdf), 2)*(E.index[1]-E.index[0]))"
   ]
  },
  {
   "cell_type": "code",
   "execution_count": 23,
   "metadata": {},
   "outputs": [
    {
     "data": {
      "image/png": "[encoded data removed]",
      "text/plain": [
       "<Figure size 432x288 with 1 Axes>"
      ]
     },
     "metadata": {
      "needs_background": "light"
     },
     "output_type": "display_data"
    }
   ],
   "source": [
    "plt.plot(bins[:-1], pdf, 'k'); plt.xlabel('Total Separation [km]'); plt.ylabel('PDF');"
   ]
  },
  {
   "cell_type": "code",
   "execution_count": 24,
   "metadata": {},
   "outputs": [],
   "source": [
    "# if WRITE_CDF_TO_FILE:\n",
    "#     data = np.vstack((bins[:-1], cdf[:-1], pdf)).T\n",
    "#     pd.DataFrame(data=data).to_csv('microburst_cdf_pdf_v0.csv', \n",
    "#                                    header=['Dist_Total', 'CDF', 'PDF'], index=False)"
   ]
  },
  {
   "cell_type": "markdown",
   "metadata": {},
   "source": [
    "# Calculate the CDF Attempt 2\n",
    "Here I attempt to account for the number of seconds that AC-6 took data togeather to remove a bias that comes from certain separations having more data than other separations. To take the exposure time into account, I reformulate the CDF in the following functional form\n",
    "\n",
    "$$\n",
    "CDF(d) = \\frac{(coincident > d)/E(d, \\inf)}{(all \\ coincident)/E(0, \\inf)} = \\Big(\\frac{(coincident > d)}{(all \\ coincident)}\\Big) \\Big(\\frac{E(0, \\inf)}{E(d, \\inf)}\\Big)\n",
    "$$"
   ]
  },
  {
   "cell_type": "markdown",
   "metadata": {},
   "source": [
    "Visualize how the $E(0, \\inf)/E(d, \\inf)$ term looks like as a function of d"
   ]
  },
  {
   "cell_type": "code",
   "execution_count": 25,
   "metadata": {},
   "outputs": [],
   "source": [
    "weights = [E.loc[0:500].sum()/E.loc[d:500].sum() for d in range(0, 201, 5)]"
   ]
  },
  {
   "cell_type": "code",
   "execution_count": 26,
   "metadata": {},
   "outputs": [
    {
     "data": {
      "image/png": "[encoded data removed]",
      "text/plain": [
       "<Figure size 432x288 with 1 Axes>"
      ]
     },
     "metadata": {
      "needs_background": "light"
     },
     "output_type": "display_data"
    }
   ],
   "source": [
    "plt.plot(E.loc[0:200].index, weights);"
   ]
  },
  {
   "cell_type": "code",
   "execution_count": 27,
   "metadata": {},
   "outputs": [],
   "source": [
    "cdf2 = np.array([(coincidentEvents['Dist_Total'] >= di).sum()/totalEvents*wi \n",
    "                 for di, wi in zip(bins, weights)])\n",
    "cdf2 = cdf2.flatten()"
   ]
  },
  {
   "cell_type": "code",
   "execution_count": 28,
   "metadata": {},
   "outputs": [
    {
     "data": {
      "image/png": "[encoded data removed]",
      "text/plain": [
       "<Figure size 864x576 with 2 Axes>"
      ]
     },
     "metadata": {
      "needs_background": "light"
     },
     "output_type": "display_data"
    }
   ],
   "source": [
    "fig, ax = plt.subplots(2, sharex=True, figsize=(12, 8))\n",
    "ax[0].plot(bins, cdf, 'b', label='CDF')\n",
    "ax[0].plot(bins, cdf2, 'r', label='Normalized CDF')\n",
    "ax[0].legend()\n",
    "ax[1].bar(E.loc[0:200].index, E['Seconds'].loc[0:200]/10000, width=0.8*E.index[1]-E.index[0], color='k')\n",
    "ax[1].set_ylabel('sample time x 10000 [seconds]'); ax[1].set_xlabel('Total Separation [km]');"
   ]
  },
  {
   "cell_type": "code",
   "execution_count": 29,
   "metadata": {},
   "outputs": [
    {
     "data": {
      "text/plain": [
       "13"
      ]
     },
     "execution_count": 29,
     "metadata": {},
     "output_type": "execute_result"
    }
   ],
   "source": [
    "(coincidentEvents['Dist_Total'] >= 100).sum()"
   ]
  },
  {
   "cell_type": "code",
   "execution_count": 30,
   "metadata": {},
   "outputs": [
    {
     "data": {
      "image/png": "[encoded data removed]",
      "text/plain": [
       "<Figure size 432x288 with 1 Axes>"
      ]
     },
     "metadata": {
      "needs_background": "light"
     },
     "output_type": "display_data"
    }
   ],
   "source": [
    "pdf2 = np.convolve([-1, 1], cdf2, mode='valid')/(E.index[1]-E.index[0])\n",
    "plt.plot(bins[:-1], pdf, 'b', label='pdf')\n",
    "plt.plot(bins[:-1], pdf2, 'r', label='pdf2')\n",
    "plt.xlabel('Total Separation [km]'); plt.ylabel('PDF');\n",
    "plt.legend();"
   ]
  },
  {
   "cell_type": "code",
   "execution_count": 31,
   "metadata": {},
   "outputs": [],
   "source": [
    "if WRITE_CDF_TO_FILE:\n",
    "    data = np.vstack((bins[:-1], cdf2[:-1], pdf2)).T\n",
    "    df = pd.DataFrame(data=data, columns=['Dist_Total', 'CDF', 'PDF'])\n",
    "    df.to_csv('microburst_cdf_pdf_norm_v0.csv', index=False)"
   ]
  },
  {
   "cell_type": "code",
   "execution_count": 36,
   "metadata": {},
   "outputs": [
    {
     "data": {
      "image/png": "[encoded data removed]",
      "text/plain": [
       "<Figure size 576x576 with 3 Axes>"
      ]
     },
     "metadata": {
      "needs_background": "light"
     },
     "output_type": "display_data"
    }
   ],
   "source": [
    "delta_bin = (E.index[1]-E.index[0])\n",
    "fig, ax = plt.subplots(3, sharex=True, figsize=(8, 8))\n",
    "ax[0].plot(bins, cdf2, 'k'); ax[0].set_ylabel('Microburst CDF')\n",
    "ax[0].errorbar(bins, cdf2, c='k', yerr=0.14); ax[0].set_ylabel('Microburst CDF')\n",
    "ax[1].plot(bins[:-1], pdf2, 'k'); ax[1].set_ylabel('Microburst PDF')\n",
    "ax[2].bar(E.loc[0:200].index+0.5*delta_bin, E['Seconds'].loc[0:200]/10000, width=0.8*delta_bin, color='k')\n",
    "ax[2].set_ylabel('Sample time x 10000\\n[seconds]'); ax[2].set_xlabel('Total Separation [km]');\n",
    "plt.tight_layout()\n",
    "ax[0].set_xlim(left=0);\n",
    "#plt.savefig('ac6_microburst_cdf_pdf.png')"
   ]
  },
  {
   "cell_type": "markdown",
   "metadata": {},
   "source": [
    "Investigate if there is a difference in widths between microbursts observed at the small and large separations."
   ]
  },
  {
   "cell_type": "code",
   "execution_count": 33,
   "metadata": {},
   "outputs": [
    {
     "name": "stderr",
     "output_type": "stream",
     "text": [
      "/usr/local/lib/python3.6/dist-packages/matplotlib/axes/_axes.py:6521: MatplotlibDeprecationWarning: \n",
      "The 'normed' kwarg was deprecated in Matplotlib 2.1 and will be removed in 3.1. Use 'density' instead.\n",
      "  alternative=\"'density'\", removal=\"3.1\")\n"
     ]
    },
    {
     "data": {
      "image/png": "[encoded data removed]",
      "text/plain": [
       "<Figure size 432x288 with 1 Axes>"
      ]
     },
     "metadata": {
      "needs_background": "light"
     },
     "output_type": "display_data"
    }
   ],
   "source": [
    "similar_width_events = coincidentEvents[np.isclose(\n",
    "                            coincidentEvents['peak_width_A'], \n",
    "                            coincidentEvents['peak_width_B'], rtol=2)]\n",
    "similar_width_events_small = similar_width_events[similar_width_events['Dist_Total'] < 10]\n",
    "similar_width_events_large = similar_width_events[similar_width_events['Dist_Total'] > 50]\n",
    "\n",
    "plt.hist(similar_width_events_small['peak_width_A'], bins=np.arange(0, 1, 0.1), normed=True, alpha=0.5);\n",
    "plt.hist(similar_width_events_large['peak_width_A'], bins=np.arange(0, 1, 0.1), normed=True, alpha=0.5);"
   ]
  },
  {
   "cell_type": "code",
   "execution_count": 34,
   "metadata": {},
   "outputs": [
    {
     "data": {
      "text/plain": [
       "0.2723467391656463"
      ]
     },
     "execution_count": 34,
     "metadata": {},
     "output_type": "execute_result"
    }
   ],
   "source": [
    "similar_width_events_small['peak_width_A'].mean()"
   ]
  }
 ],
 "metadata": {
  "kernelspec": {
   "display_name": "Python 3",
   "language": "python",
   "name": "python3"
  },
  "language_info": {
   "codemirror_mode": {
    "name": "ipython",
    "version": 3
   },
   "file_extension": ".py",
   "mimetype": "text/x-python",
   "name": "python",
   "nbconvert_exporter": "python",
   "pygments_lexer": "ipython3",
   "version": "3.6.7"
  },
  "toc": {
   "base_numbering": 1,
   "nav_menu": {},
   "number_sections": true,
   "sideBar": true,
   "skip_h1_title": false,
   "title_cell": "Table of Contents",
   "title_sidebar": "Contents",
   "toc_cell": false,
   "toc_position": {},
   "toc_section_display": true,
   "toc_window_display": false
  }
 },
 "nbformat": 4,
 "nbformat_minor": 2
}
