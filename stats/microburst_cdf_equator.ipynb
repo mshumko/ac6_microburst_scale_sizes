{
 "cells": [
  {
   "cell_type": "markdown",
   "metadata": {},
   "source": [
    "In this notebook I use IRBEM to map each microburst to the magnetic equator."
   ]
  },
  {
   "cell_type": "code",
   "execution_count": 1,
   "metadata": {},
   "outputs": [],
   "source": [
    "import pandas as pd\n",
    "import numpy as np\n",
    "import scipy.integrate\n",
    "import matplotlib.pyplot as plt\n",
    "\n",
    "import IRBEM"
   ]
  },
  {
   "cell_type": "code",
   "execution_count": 7,
   "metadata": {},
   "outputs": [],
   "source": [
    "Re = 6371 # Earth radius, km"
   ]
  },
  {
   "cell_type": "markdown",
   "metadata": {},
   "source": [
    "## Load the filtered catalog"
   ]
  },
  {
   "cell_type": "code",
   "execution_count": 6,
   "metadata": {},
   "outputs": [
    {
     "data": {
      "text/html": [
       "<div>\n",
       "<style scoped>\n",
       "    .dataframe tbody tr th:only-of-type {\n",
       "        vertical-align: middle;\n",
       "    }\n",
       "\n",
       "    .dataframe tbody tr th {\n",
       "        vertical-align: top;\n",
       "    }\n",
       "\n",
       "    .dataframe thead th {\n",
       "        text-align: right;\n",
       "    }\n",
       "</style>\n",
       "<table border=\"1\" class=\"dataframe\">\n",
       "  <thead>\n",
       "    <tr style=\"text-align: right;\">\n",
       "      <th></th>\n",
       "      <th>dateTime</th>\n",
       "      <th>dos1rate</th>\n",
       "      <th>peak_std</th>\n",
       "      <th>Lm_OPQ</th>\n",
       "      <th>MLT_OPQ</th>\n",
       "      <th>lat</th>\n",
       "      <th>lon</th>\n",
       "      <th>alt</th>\n",
       "      <th>Dist_In_Track</th>\n",
       "      <th>Lag_In_Track</th>\n",
       "      <th>Dist_Total</th>\n",
       "      <th>Loss_Cone_Type</th>\n",
       "      <th>flag</th>\n",
       "      <th>AE</th>\n",
       "      <th>time_cc</th>\n",
       "      <th>space_cc</th>\n",
       "      <th>time_spatial_A</th>\n",
       "      <th>time_spatial_B</th>\n",
       "      <th>peak_width_A</th>\n",
       "      <th>peak_width_B</th>\n",
       "    </tr>\n",
       "  </thead>\n",
       "  <tbody>\n",
       "    <tr>\n",
       "      <th>0</th>\n",
       "      <td>2015-04-16 04:50:47.600000</td>\n",
       "      <td>560.003</td>\n",
       "      <td>5.242196</td>\n",
       "      <td>5.36905</td>\n",
       "      <td>21.77790</td>\n",
       "      <td>-71.3883</td>\n",
       "      <td>-121.5450</td>\n",
       "      <td>660.860</td>\n",
       "      <td>131.796</td>\n",
       "      <td>17.4919</td>\n",
       "      <td>131.804</td>\n",
       "      <td>1.0</td>\n",
       "      <td>0.0</td>\n",
       "      <td>583.0</td>\n",
       "      <td>0.815984</td>\n",
       "      <td>0.061890</td>\n",
       "      <td>2015-04-16 04:50:47.600000</td>\n",
       "      <td>2015-04-16 04:51:05.091900</td>\n",
       "      <td>0.175007</td>\n",
       "      <td>0.197500</td>\n",
       "    </tr>\n",
       "    <tr>\n",
       "      <th>1</th>\n",
       "      <td>2015-04-16 05:37:42.100000</td>\n",
       "      <td>569.946</td>\n",
       "      <td>6.014335</td>\n",
       "      <td>5.03621</td>\n",
       "      <td>10.06720</td>\n",
       "      <td>65.7251</td>\n",
       "      <td>53.1518</td>\n",
       "      <td>674.671</td>\n",
       "      <td>132.305</td>\n",
       "      <td>17.5961</td>\n",
       "      <td>132.313</td>\n",
       "      <td>1.0</td>\n",
       "      <td>0.0</td>\n",
       "      <td>552.0</td>\n",
       "      <td>0.903722</td>\n",
       "      <td>0.470579</td>\n",
       "      <td>2015-04-16 05:37:42.100000</td>\n",
       "      <td>2015-04-16 05:37:59.696100</td>\n",
       "      <td>0.295886</td>\n",
       "      <td>0.260770</td>\n",
       "    </tr>\n",
       "    <tr>\n",
       "      <th>2</th>\n",
       "      <td>2015-04-16 07:15:41.600000</td>\n",
       "      <td>730.004</td>\n",
       "      <td>4.564616</td>\n",
       "      <td>5.12112</td>\n",
       "      <td>10.36750</td>\n",
       "      <td>65.3316</td>\n",
       "      <td>28.9745</td>\n",
       "      <td>674.543</td>\n",
       "      <td>131.850</td>\n",
       "      <td>17.5372</td>\n",
       "      <td>131.858</td>\n",
       "      <td>1.0</td>\n",
       "      <td>0.0</td>\n",
       "      <td>618.0</td>\n",
       "      <td>0.810201</td>\n",
       "      <td>0.063204</td>\n",
       "      <td>2015-04-16 07:15:24.062800</td>\n",
       "      <td>2015-04-16 07:15:41.600000</td>\n",
       "      <td>0.305028</td>\n",
       "      <td>0.210672</td>\n",
       "    </tr>\n",
       "    <tr>\n",
       "      <th>3</th>\n",
       "      <td>2015-04-16 19:29:05.400000</td>\n",
       "      <td>2590.010</td>\n",
       "      <td>6.070891</td>\n",
       "      <td>5.41519</td>\n",
       "      <td>19.99470</td>\n",
       "      <td>-64.5365</td>\n",
       "      <td>26.2792</td>\n",
       "      <td>662.745</td>\n",
       "      <td>128.400</td>\n",
       "      <td>17.0482</td>\n",
       "      <td>128.409</td>\n",
       "      <td>0.0</td>\n",
       "      <td>4.0</td>\n",
       "      <td>1023.0</td>\n",
       "      <td>0.823308</td>\n",
       "      <td>0.494986</td>\n",
       "      <td>2015-04-16 19:29:05.400000</td>\n",
       "      <td>2015-04-16 19:29:22.448200</td>\n",
       "      <td>0.310256</td>\n",
       "      <td>0.317107</td>\n",
       "    </tr>\n",
       "    <tr>\n",
       "      <th>4</th>\n",
       "      <td>2015-04-16 20:17:02.100000</td>\n",
       "      <td>600.003</td>\n",
       "      <td>8.760751</td>\n",
       "      <td>4.19432</td>\n",
       "      <td>8.38166</td>\n",
       "      <td>61.3247</td>\n",
       "      <td>-163.4740</td>\n",
       "      <td>672.074</td>\n",
       "      <td>129.070</td>\n",
       "      <td>17.1628</td>\n",
       "      <td>129.077</td>\n",
       "      <td>1.0</td>\n",
       "      <td>0.0</td>\n",
       "      <td>1249.0</td>\n",
       "      <td>0.812830</td>\n",
       "      <td>-0.521795</td>\n",
       "      <td>2015-04-16 20:16:44.937200</td>\n",
       "      <td>2015-04-16 20:17:02.100000</td>\n",
       "      <td>0.316239</td>\n",
       "      <td>0.290001</td>\n",
       "    </tr>\n",
       "  </tbody>\n",
       "</table>\n",
       "</div>"
      ],
      "text/plain": [
       "                     dateTime  dos1rate  peak_std   Lm_OPQ   MLT_OPQ      lat  \\\n",
       "0  2015-04-16 04:50:47.600000   560.003  5.242196  5.36905  21.77790 -71.3883   \n",
       "1  2015-04-16 05:37:42.100000   569.946  6.014335  5.03621  10.06720  65.7251   \n",
       "2  2015-04-16 07:15:41.600000   730.004  4.564616  5.12112  10.36750  65.3316   \n",
       "3  2015-04-16 19:29:05.400000  2590.010  6.070891  5.41519  19.99470 -64.5365   \n",
       "4  2015-04-16 20:17:02.100000   600.003  8.760751  4.19432   8.38166  61.3247   \n",
       "\n",
       "        lon      alt  Dist_In_Track  Lag_In_Track  Dist_Total  Loss_Cone_Type  \\\n",
       "0 -121.5450  660.860        131.796       17.4919     131.804             1.0   \n",
       "1   53.1518  674.671        132.305       17.5961     132.313             1.0   \n",
       "2   28.9745  674.543        131.850       17.5372     131.858             1.0   \n",
       "3   26.2792  662.745        128.400       17.0482     128.409             0.0   \n",
       "4 -163.4740  672.074        129.070       17.1628     129.077             1.0   \n",
       "\n",
       "   flag      AE   time_cc  space_cc              time_spatial_A  \\\n",
       "0   0.0   583.0  0.815984  0.061890  2015-04-16 04:50:47.600000   \n",
       "1   0.0   552.0  0.903722  0.470579  2015-04-16 05:37:42.100000   \n",
       "2   0.0   618.0  0.810201  0.063204  2015-04-16 07:15:24.062800   \n",
       "3   4.0  1023.0  0.823308  0.494986  2015-04-16 19:29:05.400000   \n",
       "4   0.0  1249.0  0.812830 -0.521795  2015-04-16 20:16:44.937200   \n",
       "\n",
       "               time_spatial_B  peak_width_A  peak_width_B  \n",
       "0  2015-04-16 04:51:05.091900      0.175007      0.197500  \n",
       "1  2015-04-16 05:37:59.696100      0.295886      0.260770  \n",
       "2  2015-04-16 07:15:41.600000      0.305028      0.210672  \n",
       "3  2015-04-16 19:29:22.448200      0.310256      0.317107  \n",
       "4  2015-04-16 20:17:02.100000      0.316239      0.290001  "
      ]
     },
     "execution_count": 6,
     "metadata": {},
     "output_type": "execute_result"
    }
   ],
   "source": [
    "CATALOG_VERSION = 6\n",
    "CAT_PATH = ('/home/mike/research/ac6_microburst_scale_sizes/data/'\n",
    "            'coincident_microbursts_catalogues/'\n",
    "            'AC6_coincident_microbursts_sorted_v{}.txt'.format(CATALOG_VERSION))\n",
    "cat = pd.read_csv(CAT_PATH)\n",
    "cat.head()"
   ]
  },
  {
   "cell_type": "markdown",
   "metadata": {},
   "source": [
    "Define a function to call IRBEM.find_magequator. This function takes a lat, lon, alt, dist_total arguments which it then splits into two sets of lat, lon, alt points assuming the dist_total is in latitude only (good assumption for polar orbiting spacecraft)."
   ]
  },
  {
   "cell_type": "code",
   "execution_count": 39,
   "metadata": {},
   "outputs": [],
   "source": [
    "model = IRBEM.MagFields(kext='OPQ77')\n",
    "\n",
    "def deltaLat(d, alt):\n",
    "    \"\"\"\n",
    "    Calculate the half of the change in angle for a spacecraft at\n",
    "    an altitude alt and separated by a distance d.\n",
    "    \"\"\"\n",
    "    #dLat = 180/np.pi*d/(Re+alt)\n",
    "    return np.rad2deg(np.arcsin(d/(2*(Re+alt))))\n",
    "\n",
    "def map2equator(lat, lon, alt, time, d):\n",
    "    \"\"\" Maps to magnetix equator assuming d is soly in latitude. \"\"\"\n",
    "    # Define the coordinates of the two spacecraft.\n",
    "    dLat = deltaLat(d, alt)\n",
    "    X1 = {'x1':alt, 'x2':lat-dLat, 'x3':lon, 'dateTime':time}\n",
    "    X2 = {'x1':alt, 'x2':lat+dLat, 'x3':lon, 'dateTime':time}\n",
    "    # Run IRBEM\n",
    "    X1_equator = model.find_magequator(X1, None)['XGEO']\n",
    "    X2_equator = model.find_magequator(X2, None)['XGEO']\n",
    "    # Calculate the separations.\n",
    "    d_equator = Re*np.linalg.norm(X1_equator-X2_equator)\n",
    "    return d_equator"
   ]
  },
  {
   "cell_type": "markdown",
   "metadata": {},
   "source": [
    "Calculate the scale sizes for all events in the sorted catalog."
   ]
  },
  {
   "cell_type": "code",
   "execution_count": 40,
   "metadata": {},
   "outputs": [],
   "source": [
    "d_equator = np.array([map2equator(row.lat, row.lon, row.alt, row.dateTime, row.Dist_Total) \n",
    "                      for _, row in cat.iterrows()])"
   ]
  },
  {
   "cell_type": "code",
   "execution_count": 52,
   "metadata": {},
   "outputs": [
    {
     "data": {
      "image/png": "[encoded data removed]",
      "text/plain": [
       "<Figure size 432x288 with 1 Axes>"
      ]
     },
     "metadata": {
      "needs_background": "light"
     },
     "output_type": "display_data"
    }
   ],
   "source": [
    "plt.hist(d_equator, bins=np.linspace(0, 1000, num=25))\n",
    "plt.ylabel('# microbursts'); plt.xlabel('Equatorial Size'); plt.title('AC-6 Microburst Equatorial Sizes');"
   ]
  },
  {
   "cell_type": "markdown",
   "metadata": {},
   "source": [
    "The above histogram is very close to the results by Santolik and Gurnett, 2003 \"Transverse dimensions of chorus in the source region\" paper. \n",
    "\n",
    "## Check\n",
    "How would a 1 km sized microburst scales to the magnetic equator as a function of L shell?"
   ]
  },
  {
   "cell_type": "code",
   "execution_count": 88,
   "metadata": {},
   "outputs": [],
   "source": [
    "lon = 180\n",
    "lat_arr = np.linspace(60, 75)\n",
    "time = '2019-03-18T00:00:00'\n",
    "d_scale = np.array([map2equator(lat_i, lon, 500, time, 1) for lat_i in lat_arr])\n",
    "output = model.make_lstar({'x1':500*np.ones_like(lat_arr), 'x2':lat_arr, 'x3':lon*np.ones_like(lat_arr), \n",
    "                  'dateTime':[time]*len(lat_arr)}, None)\n",
    "output['Lm'] = np.abs(output['Lm'])"
   ]
  },
  {
   "cell_type": "code",
   "execution_count": 93,
   "metadata": {},
   "outputs": [
    {
     "name": "stdout",
     "output_type": "stream",
     "text": [
      "Mean MLT = 10.568432137166504\n"
     ]
    },
    {
     "data": {
      "image/png": "[encoded data removed]",
      "text/plain": [
       "<Figure size 432x288 with 1 Axes>"
      ]
     },
     "metadata": {
      "needs_background": "light"
     },
     "output_type": "display_data"
    }
   ],
   "source": [
    "plt.plot(output['Lm'], d_scale); plt.xlabel('L'); plt.ylabel('Scaling factor'); \n",
    "plt.title('Equatorial scaling factor from LEO')\n",
    "print('Mean MLT =', np.mean(output['MLT']))"
   ]
  },
  {
   "cell_type": "code",
   "execution_count": null,
   "metadata": {},
   "outputs": [],
   "source": []
  }
 ],
 "metadata": {
  "kernelspec": {
   "display_name": "Python 3",
   "language": "python",
   "name": "python3"
  },
  "language_info": {
   "codemirror_mode": {
    "name": "ipython",
    "version": 3
   },
   "file_extension": ".py",
   "mimetype": "text/x-python",
   "name": "python",
   "nbconvert_exporter": "python",
   "pygments_lexer": "ipython3",
   "version": "3.6.7"
  }
 },
 "nbformat": 4,
 "nbformat_minor": 2
}
