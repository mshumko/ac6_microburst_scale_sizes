{
 "cells": [
  {
   "cell_type": "markdown",
   "metadata": {},
   "source": [
    "# Explore cost functions\n",
    "Here we will explore how different cost functions can help find the most optimal set of parameters for a microburst detector"
   ]
  },
  {
   "cell_type": "code",
   "execution_count": 41,
   "metadata": {},
   "outputs": [],
   "source": [
    "import numpy as np\n",
    "import matplotlib.pyplot as plt\n",
    "%matplotlib inline"
   ]
  },
  {
   "cell_type": "code",
   "execution_count": 9,
   "metadata": {},
   "outputs": [],
   "source": [
    "fPath = 'burst_params.csv'\n",
    "d = np.genfromtxt(fPath, delimiter=',', names=True)"
   ]
  },
  {
   "cell_type": "markdown",
   "metadata": {},
   "source": [
    "d is a structure (very similar to a dictionary, but looks like it consists of tuples which are immutable"
   ]
  },
  {
   "cell_type": "code",
   "execution_count": 10,
   "metadata": {},
   "outputs": [
    {
     "data": {
      "text/plain": [
       "array([( 0.5,  0.1,  0.2,  1029.,  60178.,  77.,  5771.),\n",
       "       ( 0.5,  0.1,  0.3,  1029.,  64591.,  90.,  6187.),\n",
       "       ( 0.5,  0.1,  0.4,  1029.,  60231.,  97.,  5757.),\n",
       "       ( 0.5,  0.1,  0.5,  1029.,  60231.,  97.,  5757.),\n",
       "       ( 0.5,  0.1,  0.6,  1029.,  57993.,  97.,  5539.)],\n",
       "      dtype=[('thresh', '<f8'), ('n', '<f8'), ('a', '<f8'), ('validNum', '<f8'), ('detNum', '<f8'), ('TPR', '<f8'), ('FPR', '<f8')])"
      ]
     },
     "execution_count": 10,
     "metadata": {},
     "output_type": "execute_result"
    }
   ],
   "source": [
    "d[:5]"
   ]
  },
  {
   "cell_type": "code",
   "execution_count": 11,
   "metadata": {},
   "outputs": [],
   "source": [
    "def dana_cost(alpha, beta, d):\n",
    "    \"\"\" \n",
    "    This function implement's Data's idea of a cost function that gives a \n",
    "    certain weight (1/alpha) to false positive rates. \n",
    "    \n",
    "    Cost = FP + alpha*TN\n",
    "    \n",
    "    where FP is the # of false positives, TN is the number of true-negatives\n",
    "    which is given by TN = (N-TP) where N is the total number of valid \n",
    "    detections, and TP is the number of true positives.\n",
    "    \n",
    "    Intuitively, this is stating that false positives are (1/alpha) worse \n",
    "    than true negatives.\n",
    "    \"\"\"\n",
    "    cost = d['validNum']*d['FPR']/100 + alpha*d['validNum']*(1 - d['TPR']/100) + beta*np.abs(d['detNum'] - d['validNum'])\n",
    "    return cost"
   ]
  },
  {
   "cell_type": "code",
   "execution_count": 62,
   "metadata": {},
   "outputs": [],
   "source": [
    "cost = dana_cost(1/10, 2, d)"
   ]
  },
  {
   "cell_type": "code",
   "execution_count": 63,
   "metadata": {},
   "outputs": [
    {
     "data": {
      "text/plain": [
       "(546.19499999999994, 546)"
      ]
     },
     "execution_count": 63,
     "metadata": {},
     "output_type": "execute_result"
    }
   ],
   "source": [
    "np.min(cost), np.argmin(cost)"
   ]
  },
  {
   "cell_type": "code",
   "execution_count": 64,
   "metadata": {},
   "outputs": [
    {
     "data": {
      "text/plain": [
       "( 2.5,  0.3,  1.9,  1029.,  990.,  55.,  41.)"
      ]
     },
     "execution_count": 64,
     "metadata": {},
     "output_type": "execute_result"
    }
   ],
   "source": [
    "d[np.argmin(cost)]"
   ]
  },
  {
   "cell_type": "code",
   "execution_count": 66,
   "metadata": {},
   "outputs": [
    {
     "name": "stdout",
     "output_type": "stream",
     "text": [
      "( 2.5,  0.3,  1.9,  1029.,  990.,  55.,  41.)\n"
     ]
    }
   ],
   "source": [
    "idx = np.where(cost == np.min(cost))[0]\n",
    "for i in idx:\n",
    "    print(d[i])"
   ]
  },
  {
   "cell_type": "code",
   "execution_count": null,
   "metadata": {},
   "outputs": [],
   "source": []
  }
 ],
 "metadata": {
  "kernelspec": {
   "display_name": "Python 3",
   "language": "python",
   "name": "python3"
  },
  "language_info": {
   "codemirror_mode": {
    "name": "ipython",
    "version": 3
   },
   "file_extension": ".py",
   "mimetype": "text/x-python",
   "name": "python",
   "nbconvert_exporter": "python",
   "pygments_lexer": "ipython3",
   "version": "3.5.2"
  }
 },
 "nbformat": 4,
 "nbformat_minor": 2
}
