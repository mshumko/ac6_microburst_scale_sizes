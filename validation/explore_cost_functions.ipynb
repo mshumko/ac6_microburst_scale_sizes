{
 "cells": [
  {
   "cell_type": "markdown",
   "metadata": {},
   "source": [
    "# Explore cost functions\n",
    "Here we will explore how different cost functions can help find the most optimal set of parameters for a microburst detector"
   ]
  },
  {
   "cell_type": "code",
   "execution_count": 53,
   "metadata": {},
   "outputs": [],
   "source": [
    "import numpy as np\n",
    "import matplotlib.pyplot as plt\n",
    "%matplotlib inline"
   ]
  },
  {
   "cell_type": "markdown",
   "metadata": {},
   "source": [
    "Load and investigate the wavelet parameters first"
   ]
  },
  {
   "cell_type": "code",
   "execution_count": 54,
   "metadata": {},
   "outputs": [],
   "source": [
    "fPath = 'wavelet_params.csv'\n",
    "d = np.genfromtxt(fPath, delimiter=',', names=True)"
   ]
  },
  {
   "cell_type": "markdown",
   "metadata": {},
   "source": [
    "d is a structure (very similar to a dictionary, but looks like it consists of tuples which are immutable"
   ]
  },
  {
   "cell_type": "code",
   "execution_count": 55,
   "metadata": {},
   "outputs": [
    {
     "data": {
      "text/plain": [
       "array([(0.05, 0.3, 1. , 1029., 478., 40., 7.),\n",
       "       (0.05, 0.3, 0.5, 1029., 492., 41., 7.),\n",
       "       (0.05, 0.3, 0.3, 1029., 494., 41., 7.),\n",
       "       (0.05, 0.3, 0.2, 1029., 494., 41., 7.),\n",
       "       (0.05, 0.3, 0.2, 1029., 494., 41., 7.)],\n",
       "      dtype=[('thresh', '<f8'), ('maxWidth', '<f8'), ('SIGNIF_LEVEL', '<f8'), ('validNum', '<f8'), ('detNum', '<f8'), ('TPR', '<f8'), ('FPR', '<f8')])"
      ]
     },
     "execution_count": 55,
     "metadata": {},
     "output_type": "execute_result"
    }
   ],
   "source": [
    "d[:5]"
   ]
  },
  {
   "cell_type": "code",
   "execution_count": 56,
   "metadata": {},
   "outputs": [],
   "source": [
    "def dana_cost(alpha, beta, d):\n",
    "    \"\"\" \n",
    "    This function implement's Data's idea of a cost function that gives a \n",
    "    certain weight (1/alpha) to false positive rates. \n",
    "    \n",
    "    Cost = FP + alpha*TN\n",
    "    \n",
    "    where FP is the # of false positives, TN is the number of true-negatives\n",
    "    which is given by TN = (N-TP) where N is the total number of valid \n",
    "    detections, and TP is the number of true positives.\n",
    "    \n",
    "    Intuitively, this is stating that false positives are (1/alpha) worse \n",
    "    than true negatives.\n",
    "    \"\"\"\n",
    "    cost = (d['validNum']*d['FPR']/100 + alpha*d['validNum']*(1 - d['TPR']/100) +\n",
    "            beta*np.abs(d['detNum'] - d['validNum']))\n",
    "    return cost"
   ]
  },
  {
   "cell_type": "code",
   "execution_count": 57,
   "metadata": {},
   "outputs": [],
   "source": [
    "alpha = 1/5; beta = 10\n",
    "cost = dana_cost(alpha, beta, d)"
   ]
  },
  {
   "cell_type": "code",
   "execution_count": 58,
   "metadata": {},
   "outputs": [
    {
     "data": {
      "text/plain": [
       "(2582.554, 29)"
      ]
     },
     "execution_count": 58,
     "metadata": {},
     "output_type": "execute_result"
    }
   ],
   "source": [
    "np.min(cost), np.argmin(cost)"
   ]
  },
  {
   "cell_type": "markdown",
   "metadata": {},
   "source": [
    "Print all parameters which give you the smallest cost"
   ]
  },
  {
   "cell_type": "code",
   "execution_count": 59,
   "metadata": {},
   "outputs": [
    {
     "name": "stdout",
     "output_type": "stream",
     "text": [
      "\n",
      "(0.05, 0.5, 0.1, 1029., 794., 62., 15.)\n"
     ]
    }
   ],
   "source": [
    "idx = np.where(cost == np.min(cost))[0]\n",
    "print()\n",
    "for i in idx:\n",
    "    print(d[i])"
   ]
  },
  {
   "cell_type": "markdown",
   "metadata": {},
   "source": [
    "### Now find the optimal parameters for the burst parameter"
   ]
  },
  {
   "cell_type": "code",
   "execution_count": 60,
   "metadata": {},
   "outputs": [],
   "source": [
    "fPath = 'burst_params.csv'\n",
    "d_burst = np.genfromtxt(fPath, delimiter=',', names=True)\n",
    "cost_burst = dana_cost(alpha, beta, d_burst)"
   ]
  },
  {
   "cell_type": "code",
   "execution_count": 61,
   "metadata": {},
   "outputs": [
    {
     "data": {
      "text/plain": [
       "(553.312, 413)"
      ]
     },
     "execution_count": 61,
     "metadata": {},
     "output_type": "execute_result"
    }
   ],
   "source": [
    "np.min(cost_burst), np.argmin(cost_burst)"
   ]
  },
  {
   "cell_type": "code",
   "execution_count": 62,
   "metadata": {},
   "outputs": [
    {
     "name": "stdout",
     "output_type": "stream",
     "text": [
      "\n",
      "(0.15, 1., 0.2, 1029., 412., 35., 5.)\n"
     ]
    }
   ],
   "source": [
    "idx = np.where(cost_burst == np.min(cost_burst))[0]\n",
    "print()\n",
    "for i in idx:\n",
    "    print(d[i])"
   ]
  }
 ],
 "metadata": {
  "kernelspec": {
   "display_name": "Python 3",
   "language": "python",
   "name": "python3"
  },
  "language_info": {
   "codemirror_mode": {
    "name": "ipython",
    "version": 3
   },
   "file_extension": ".py",
   "mimetype": "text/x-python",
   "name": "python",
   "nbconvert_exporter": "python",
   "pygments_lexer": "ipython3",
   "version": "3.6.6"
  }
 },
 "nbformat": 4,
 "nbformat_minor": 2
}
